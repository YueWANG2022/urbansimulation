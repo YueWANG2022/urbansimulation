{
 "cells": [
  {
   "cell_type": "markdown",
   "id": "c7be333d-d987-4e81-b255-c8ecd2968279",
   "metadata": {},
   "source": [
    "# Part 1: London’s underground resilience"
   ]
  },
  {
   "cell_type": "markdown",
   "id": "d052fbb8-3cd6-422a-9c0d-b3365b6498d9",
   "metadata": {},
   "source": [
    "## I. Topological network\n",
    "\n",
    "\n",
    "In this part, you will \n",
    "\n",
    "* evaluate the resilience of the London’s underground through the __removal of stations__ that can potentially make the __underground vulnerable__. \n",
    "\n",
    "Through the procedure outlined below you will \n",
    "\n",
    "* investigate which are the __stations that are most critical__ for the functioning of the underground, and \n",
    "* which __methodology is more appropriate__ to finding these stations."
   ]
  },
  {
   "cell_type": "markdown",
   "id": "a718e751-0ff0-4bc5-b066-0beb268bf1ec",
   "metadata": {},
   "source": [
    "#### I.0.0 read data"
   ]
  },
  {
   "cell_type": "code",
   "execution_count": null,
   "id": "57ffbaa1-4c4f-46f4-908a-b53a27613b04",
   "metadata": {},
   "outputs": [],
   "source": [
    "import pandas as pd\n",
    "import numpy as np\n",
    "import geopandas as gpd\n",
    "import networkx as nx\n",
    "import matplotlib.pyplot as plt\n",
    "from matplotlib.pyplot import cm\n",
    "import json\n",
    "import re\n",
    "from shapely.geometry import Point, LineString #this library is for manipulating geometric objects, and it is what geopandas uses to store geometries\n",
    "from scipy.spatial import distance"
   ]
  },
  {
   "cell_type": "code",
   "execution_count": null,
   "id": "b905a696-488b-4d06-ba9a-460e55cb66d5",
   "metadata": {},
   "outputs": [
    {
     "name": "stdout",
     "output_type": "stream",
     "text": [
      "Graph with 401 nodes and 467 edges\n"
     ]
    },
    {
     "name": "stderr",
     "output_type": "stream",
     "text": [
      "/tmp/ipykernel_105/2506539137.py:4: DeprecationWarning: info is deprecated and will be removed in version 3.0.\n",
      "\n",
      "  print(nx.info(Londongraph))\n"
     ]
    }
   ],
   "source": [
    "# read in the graph file\n",
    "Londongraph = nx.read_graphml('./WK10P/outputs/London.graph')\n",
    "# print some basic information about the graph\n",
    "print(nx.info(Londongraph))"
   ]
  },
  {
   "cell_type": "code",
   "execution_count": null,
   "id": "95da2404-7b27-4561-8a09-a6a17ffa38ea",
   "metadata": {},
   "outputs": [
    {
     "data": {
      "text/html": [
       "<div>\n",
       "<style scoped>\n",
       "    .dataframe tbody tr th:only-of-type {\n",
       "        vertical-align: middle;\n",
       "    }\n",
       "\n",
       "    .dataframe tbody tr th {\n",
       "        vertical-align: top;\n",
       "    }\n",
       "\n",
       "    .dataframe thead th {\n",
       "        text-align: right;\n",
       "    }\n",
       "</style>\n",
       "<table border=\"1\" class=\"dataframe\">\n",
       "  <thead>\n",
       "    <tr style=\"text-align: right;\">\n",
       "      <th></th>\n",
       "      <th>station_origin</th>\n",
       "      <th>station_destination</th>\n",
       "      <th>flows</th>\n",
       "      <th>population</th>\n",
       "      <th>jobs</th>\n",
       "      <th>distance</th>\n",
       "    </tr>\n",
       "  </thead>\n",
       "  <tbody>\n",
       "    <tr>\n",
       "      <th>0</th>\n",
       "      <td>Abbey Road</td>\n",
       "      <td>Bank and Monument</td>\n",
       "      <td>0</td>\n",
       "      <td>599</td>\n",
       "      <td>78549</td>\n",
       "      <td>8131.525097</td>\n",
       "    </tr>\n",
       "    <tr>\n",
       "      <th>1</th>\n",
       "      <td>Abbey Road</td>\n",
       "      <td>Beckton</td>\n",
       "      <td>1</td>\n",
       "      <td>599</td>\n",
       "      <td>442</td>\n",
       "      <td>8510.121774</td>\n",
       "    </tr>\n",
       "    <tr>\n",
       "      <th>2</th>\n",
       "      <td>Abbey Road</td>\n",
       "      <td>Blackwall</td>\n",
       "      <td>3</td>\n",
       "      <td>599</td>\n",
       "      <td>665</td>\n",
       "      <td>3775.448872</td>\n",
       "    </tr>\n",
       "    <tr>\n",
       "      <th>3</th>\n",
       "      <td>Abbey Road</td>\n",
       "      <td>Canary Wharf</td>\n",
       "      <td>1</td>\n",
       "      <td>599</td>\n",
       "      <td>58772</td>\n",
       "      <td>5086.514220</td>\n",
       "    </tr>\n",
       "    <tr>\n",
       "      <th>4</th>\n",
       "      <td>Abbey Road</td>\n",
       "      <td>Canning Town</td>\n",
       "      <td>37</td>\n",
       "      <td>599</td>\n",
       "      <td>15428</td>\n",
       "      <td>2228.923167</td>\n",
       "    </tr>\n",
       "  </tbody>\n",
       "</table>\n",
       "</div>"
      ],
      "text/plain": [
       "  station_origin station_destination  flows  population   jobs     distance\n",
       "0     Abbey Road   Bank and Monument      0         599  78549  8131.525097\n",
       "1     Abbey Road             Beckton      1         599    442  8510.121774\n",
       "2     Abbey Road           Blackwall      3         599    665  3775.448872\n",
       "3     Abbey Road        Canary Wharf      1         599  58772  5086.514220\n",
       "4     Abbey Road        Canning Town     37         599  15428  2228.923167"
      ]
     },
     "execution_count": 3,
     "metadata": {},
     "output_type": "execute_result"
    }
   ],
   "source": [
    "Londonflow = pd.read_csv(\"./WK10P/outputs/london_flows.csv\")\n",
    "# Londonflow = Londonflow.drop(Londonflow[Londonflow['station_destination'] == 'Battersea Park'].index)\n",
    "Londonflow.head()"
   ]
  },
  {
   "cell_type": "markdown",
   "id": "b28c793b-873e-4830-833b-a32a09ea4c2c",
   "metadata": {},
   "source": [
    "### I.1. Centrality measures\n",
    "\n",
    "\n",
    "Select __3 centrality measures__ to characterise nodes, aiming at \n",
    "\n",
    "* identifying the most important __nodes__ in this particular network. \n",
    "* Give the __definition__ of each of the measures (including their equation), \n",
    "* put the measures into __the context of the underground__, and \n",
    "* __why__ they will allow you to find the stations that are most crucial for the functioning of the underground. \n",
    "* __Compute__ the measures for your __nodes__ in the network, and \n",
    "* give the results in a table for the __first 10 ranked nodes__ for __each of the 3 measures__."
   ]
  },
  {
   "cell_type": "markdown",
   "id": "23c24445-731d-4929-9605-0e88d128382d",
   "metadata": {},
   "source": [
    "#### I.1.1 Degree Centrality"
   ]
  },
  {
   "cell_type": "markdown",
   "id": "e8adfc18-82df-4518-8ce3-50d5a960c5d8",
   "metadata": {},
   "source": [
    "* __Identifying the most important nodes__\n",
    "\n",
    "* __Give the definition of each of the measures (including their equation)__\n",
    "\n",
    "* __Explain the measure in the context of the underground__\n",
    "\n",
    "* __why they will allow you to find the stations that are most crucial for the functioning of the underground__\n"
   ]
  },
  {
   "cell_type": "code",
   "execution_count": null,
   "id": "b7e1dde1-a9ad-426d-bdaf-6317b3016822",
   "metadata": {},
   "outputs": [
    {
     "data": {
      "text/html": [
       "<div>\n",
       "<style scoped>\n",
       "    .dataframe tbody tr th:only-of-type {\n",
       "        vertical-align: middle;\n",
       "    }\n",
       "\n",
       "    .dataframe tbody tr th {\n",
       "        vertical-align: top;\n",
       "    }\n",
       "\n",
       "    .dataframe thead th {\n",
       "        text-align: right;\n",
       "    }\n",
       "</style>\n",
       "<table border=\"1\" class=\"dataframe\">\n",
       "  <thead>\n",
       "    <tr style=\"text-align: right;\">\n",
       "      <th></th>\n",
       "      <th>degree_centrality</th>\n",
       "    </tr>\n",
       "  </thead>\n",
       "  <tbody>\n",
       "    <tr>\n",
       "      <th>Stratford</th>\n",
       "      <td>0.0225</td>\n",
       "    </tr>\n",
       "    <tr>\n",
       "      <th>Bank and Monument</th>\n",
       "      <td>0.0200</td>\n",
       "    </tr>\n",
       "    <tr>\n",
       "      <th>Baker Street</th>\n",
       "      <td>0.0175</td>\n",
       "    </tr>\n",
       "    <tr>\n",
       "      <th>King's Cross St. Pancras</th>\n",
       "      <td>0.0175</td>\n",
       "    </tr>\n",
       "    <tr>\n",
       "      <th>Canning Town</th>\n",
       "      <td>0.0150</td>\n",
       "    </tr>\n",
       "    <tr>\n",
       "      <th>Green Park</th>\n",
       "      <td>0.0150</td>\n",
       "    </tr>\n",
       "    <tr>\n",
       "      <th>Earl's Court</th>\n",
       "      <td>0.0150</td>\n",
       "    </tr>\n",
       "    <tr>\n",
       "      <th>West Ham</th>\n",
       "      <td>0.0150</td>\n",
       "    </tr>\n",
       "    <tr>\n",
       "      <th>Liverpool Street</th>\n",
       "      <td>0.0150</td>\n",
       "    </tr>\n",
       "    <tr>\n",
       "      <th>Oxford Circus</th>\n",
       "      <td>0.0150</td>\n",
       "    </tr>\n",
       "  </tbody>\n",
       "</table>\n",
       "</div>"
      ],
      "text/plain": [
       "                          degree_centrality\n",
       "Stratford                            0.0225\n",
       "Bank and Monument                    0.0200\n",
       "Baker Street                         0.0175\n",
       "King's Cross St. Pancras             0.0175\n",
       "Canning Town                         0.0150\n",
       "Green Park                           0.0150\n",
       "Earl's Court                         0.0150\n",
       "West Ham                             0.0150\n",
       "Liverpool Street                     0.0150\n",
       "Oxford Circus                        0.0150"
      ]
     },
     "execution_count": 4,
     "metadata": {},
     "output_type": "execute_result"
    }
   ],
   "source": [
    "deg_LD=nx.degree(Londongraph)\n",
    "deg_norm =nx.degree_centrality(Londongraph)\n",
    "DC_LD = dict(deg_norm)\n",
    "degree_centrality = pd.DataFrame.from_dict(DC_LD,columns=['degree_centrality'],orient='index')\n",
    "degree_centrality = degree_centrality.sort_values(by='degree_centrality', ascending=False)[0:10]\n",
    "degree_centrality"
   ]
  },
  {
   "cell_type": "code",
   "execution_count": null,
   "id": "80905c49-a570-43aa-a8fa-3fa9287b9577",
   "metadata": {},
   "outputs": [
    {
     "data": {
      "text/plain": [
       "['Stratford',\n",
       " 'Bank and Monument',\n",
       " 'Baker Street',\n",
       " \"King's Cross St. Pancras\",\n",
       " 'Canning Town',\n",
       " 'Green Park',\n",
       " \"Earl's Court\",\n",
       " 'West Ham',\n",
       " 'Liverpool Street',\n",
       " 'Oxford Circus']"
      ]
     },
     "execution_count": 5,
     "metadata": {},
     "output_type": "execute_result"
    }
   ],
   "source": [
    "top10degree_centr = degree_centrality.index.to_list()\n",
    "top10degree_centr"
   ]
  },
  {
   "cell_type": "markdown",
   "id": "fa408009-1948-4b1f-a71c-df00e64c5711",
   "metadata": {},
   "source": [
    "deg_color=[(node['degree']) for i, node in Londongraph.nodes(data=True)]\n",
    "deg_size=[(float(node['degree'])/max(deg_color)*1000) for i, node in Londongraph.nodes(data=True)]\n",
    "\n",
    "fig, ax = plt.subplots(figsize=(10,10))\n",
    "pos=nx.spring_layout(Londongraph)\n",
    "nx.draw_networkx_labels(Londongraph, pos,font_size=3,\n",
    "        font_color='grey')\n",
    "nx.draw_networkx_edges(Londongraph, pos,edge_color='gray', \n",
    "        width=0.4)\n",
    "nod=nx.draw_networkx_nodes(Londongraph,\n",
    "        pos = pos,\n",
    "        node_color= deg_color,\n",
    "        node_size= 20)\n",
    "\n",
    "plt.colorbar(nod,label=\"Degree Centrality\",orientation=\"horizontal\", shrink=0.5)\n",
    "plt.axis(\"off\")\n",
    "plt.title(\"London Tube Network Ranked by Degree Centrality\",fontsize=15)\n",
    "plt.show()"
   ]
  },
  {
   "cell_type": "markdown",
   "id": "450acfbb-96fe-49c5-925f-5fad906650df",
   "metadata": {
    "tags": []
   },
   "source": [
    "#### I.1.2 Topological Closeness Centrality"
   ]
  },
  {
   "cell_type": "markdown",
   "id": "7fc172e4-6698-4f7f-a028-df9f4f1414f6",
   "metadata": {},
   "source": [
    "* __Identifying the most important nodes__\n",
    "\n",
    "WRITE HERE\n",
    "\n",
    "* __Give the definition of each of the measures (including their equation)__\n",
    "\n",
    "WRITE HERE\n",
    "\n",
    "* __Explain the measure in the context of the underground__\n",
    "\n",
    "WRITE HERE\n",
    "* __why they will allow you to find the stations that are most crucial for the functioning of the underground__\n",
    "\n",
    "WRITE HERE"
   ]
  },
  {
   "cell_type": "code",
   "execution_count": null,
   "id": "c6ae5213-8bbf-440d-9a99-11d7a1c1ba57",
   "metadata": {},
   "outputs": [],
   "source": [
    "# CALCULATE\n",
    "clos_top_LD=nx.closeness_centrality(Londongraph) #topological closeness"
   ]
  },
  {
   "cell_type": "code",
   "execution_count": null,
   "id": "44757592-03f4-47cd-be52-63e214f9869d",
   "metadata": {},
   "outputs": [
    {
     "data": {
      "text/html": [
       "<div>\n",
       "<style scoped>\n",
       "    .dataframe tbody tr th:only-of-type {\n",
       "        vertical-align: middle;\n",
       "    }\n",
       "\n",
       "    .dataframe tbody tr th {\n",
       "        vertical-align: top;\n",
       "    }\n",
       "\n",
       "    .dataframe thead th {\n",
       "        text-align: right;\n",
       "    }\n",
       "</style>\n",
       "<table border=\"1\" class=\"dataframe\">\n",
       "  <thead>\n",
       "    <tr style=\"text-align: right;\">\n",
       "      <th></th>\n",
       "      <th>closeness_top</th>\n",
       "    </tr>\n",
       "  </thead>\n",
       "  <tbody>\n",
       "    <tr>\n",
       "      <th>Green Park</th>\n",
       "      <td>0.114778</td>\n",
       "    </tr>\n",
       "    <tr>\n",
       "      <th>Bank and Monument</th>\n",
       "      <td>0.113572</td>\n",
       "    </tr>\n",
       "    <tr>\n",
       "      <th>King's Cross St. Pancras</th>\n",
       "      <td>0.113443</td>\n",
       "    </tr>\n",
       "    <tr>\n",
       "      <th>Westminster</th>\n",
       "      <td>0.112549</td>\n",
       "    </tr>\n",
       "    <tr>\n",
       "      <th>Waterloo</th>\n",
       "      <td>0.112265</td>\n",
       "    </tr>\n",
       "    <tr>\n",
       "      <th>Oxford Circus</th>\n",
       "      <td>0.111204</td>\n",
       "    </tr>\n",
       "    <tr>\n",
       "      <th>Bond Street</th>\n",
       "      <td>0.110988</td>\n",
       "    </tr>\n",
       "    <tr>\n",
       "      <th>Farringdon</th>\n",
       "      <td>0.110742</td>\n",
       "    </tr>\n",
       "    <tr>\n",
       "      <th>Angel</th>\n",
       "      <td>0.110742</td>\n",
       "    </tr>\n",
       "    <tr>\n",
       "      <th>Moorgate</th>\n",
       "      <td>0.110314</td>\n",
       "    </tr>\n",
       "  </tbody>\n",
       "</table>\n",
       "</div>"
      ],
      "text/plain": [
       "                          closeness_top\n",
       "Green Park                     0.114778\n",
       "Bank and Monument              0.113572\n",
       "King's Cross St. Pancras       0.113443\n",
       "Westminster                    0.112549\n",
       "Waterloo                       0.112265\n",
       "Oxford Circus                  0.111204\n",
       "Bond Street                    0.110988\n",
       "Farringdon                     0.110742\n",
       "Angel                          0.110742\n",
       "Moorgate                       0.110314"
      ]
     },
     "execution_count": 7,
     "metadata": {},
     "output_type": "execute_result"
    }
   ],
   "source": [
    "nx.set_node_attributes(Londongraph,clos_top_LD,'closeness_top') # add the closeness centrality as attribute\n",
    "closeness_top = pd.DataFrame.from_dict(clos_top_LD,columns=['closeness_top'],orient='index')\n",
    "closeness_top = closeness_top.sort_values(by='closeness_top', ascending=False)[0:10]\n",
    "closeness_top"
   ]
  },
  {
   "cell_type": "code",
   "execution_count": null,
   "id": "d14f28eb-8583-4557-abb1-2bb15a3a3b9a",
   "metadata": {},
   "outputs": [
    {
     "data": {
      "text/plain": [
       "['Green Park',\n",
       " 'Bank and Monument',\n",
       " \"King's Cross St. Pancras\",\n",
       " 'Westminster',\n",
       " 'Waterloo',\n",
       " 'Oxford Circus',\n",
       " 'Bond Street',\n",
       " 'Farringdon',\n",
       " 'Angel',\n",
       " 'Moorgate']"
      ]
     },
     "execution_count": 8,
     "metadata": {},
     "output_type": "execute_result"
    }
   ],
   "source": [
    "top10closeness_top = closeness_top.index.to_list()\n",
    "top10closeness_top"
   ]
  },
  {
   "cell_type": "markdown",
   "id": "d0f9e5fb-fd10-46e6-a659-8a2f83902466",
   "metadata": {},
   "source": [
    "```\n",
    "there are Just moderate differences among nodes.\n",
    "```"
   ]
  },
  {
   "cell_type": "markdown",
   "id": "142cc5d6-f2ef-429d-9839-d467b7ae9409",
   "metadata": {},
   "source": [
    "#### I.1.3 Topological Betweenness Centrality"
   ]
  },
  {
   "cell_type": "code",
   "execution_count": null,
   "id": "e1932cbd-d5d6-4ece-a510-2b589d00cb35",
   "metadata": {},
   "outputs": [
    {
     "data": {
      "text/html": [
       "<div>\n",
       "<style scoped>\n",
       "    .dataframe tbody tr th:only-of-type {\n",
       "        vertical-align: middle;\n",
       "    }\n",
       "\n",
       "    .dataframe tbody tr th {\n",
       "        vertical-align: top;\n",
       "    }\n",
       "\n",
       "    .dataframe thead th {\n",
       "        text-align: right;\n",
       "    }\n",
       "</style>\n",
       "<table border=\"1\" class=\"dataframe\">\n",
       "  <thead>\n",
       "    <tr style=\"text-align: right;\">\n",
       "      <th></th>\n",
       "      <th>betweenness_top</th>\n",
       "    </tr>\n",
       "  </thead>\n",
       "  <tbody>\n",
       "    <tr>\n",
       "      <th>Stratford</th>\n",
       "      <td>23768.093434</td>\n",
       "    </tr>\n",
       "    <tr>\n",
       "      <th>Bank and Monument</th>\n",
       "      <td>23181.058947</td>\n",
       "    </tr>\n",
       "    <tr>\n",
       "      <th>Liverpool Street</th>\n",
       "      <td>21610.387049</td>\n",
       "    </tr>\n",
       "    <tr>\n",
       "      <th>King's Cross St. Pancras</th>\n",
       "      <td>20373.521465</td>\n",
       "    </tr>\n",
       "    <tr>\n",
       "      <th>Waterloo</th>\n",
       "      <td>19464.882323</td>\n",
       "    </tr>\n",
       "    <tr>\n",
       "      <th>Green Park</th>\n",
       "      <td>17223.622114</td>\n",
       "    </tr>\n",
       "    <tr>\n",
       "      <th>Euston</th>\n",
       "      <td>16624.275469</td>\n",
       "    </tr>\n",
       "    <tr>\n",
       "      <th>Westminster</th>\n",
       "      <td>16226.155916</td>\n",
       "    </tr>\n",
       "    <tr>\n",
       "      <th>Baker Street</th>\n",
       "      <td>15287.107612</td>\n",
       "    </tr>\n",
       "    <tr>\n",
       "      <th>Finchley Road</th>\n",
       "      <td>13173.758009</td>\n",
       "    </tr>\n",
       "  </tbody>\n",
       "</table>\n",
       "</div>"
      ],
      "text/plain": [
       "                          betweenness_top\n",
       "Stratford                    23768.093434\n",
       "Bank and Monument            23181.058947\n",
       "Liverpool Street             21610.387049\n",
       "King's Cross St. Pancras     20373.521465\n",
       "Waterloo                     19464.882323\n",
       "Green Park                   17223.622114\n",
       "Euston                       16624.275469\n",
       "Westminster                  16226.155916\n",
       "Baker Street                 15287.107612\n",
       "Finchley Road                13173.758009"
      ]
     },
     "execution_count": 9,
     "metadata": {},
     "output_type": "execute_result"
    }
   ],
   "source": [
    "# COMPUTE\n",
    "bet_top_LD=nx.betweenness_centrality(Londongraph,normalized=False)\n",
    "betweenness_top = pd.DataFrame.from_dict(bet_top_LD,columns=['betweenness_top'],orient='index')\n",
    "betweenness_top = betweenness_top.sort_values(by='betweenness_top', ascending=False)[0:10]\n",
    "betweenness_top"
   ]
  },
  {
   "cell_type": "code",
   "execution_count": null,
   "id": "8f151526-5a10-455a-9019-f1f8171a6391",
   "metadata": {},
   "outputs": [
    {
     "data": {
      "text/html": [
       "<div>\n",
       "<style scoped>\n",
       "    .dataframe tbody tr th:only-of-type {\n",
       "        vertical-align: middle;\n",
       "    }\n",
       "\n",
       "    .dataframe tbody tr th {\n",
       "        vertical-align: top;\n",
       "    }\n",
       "\n",
       "    .dataframe thead th {\n",
       "        text-align: right;\n",
       "    }\n",
       "</style>\n",
       "<table border=\"1\" class=\"dataframe\">\n",
       "  <thead>\n",
       "    <tr style=\"text-align: right;\">\n",
       "      <th></th>\n",
       "      <th>bet_top_norm</th>\n",
       "    </tr>\n",
       "  </thead>\n",
       "  <tbody>\n",
       "    <tr>\n",
       "      <th>Stratford</th>\n",
       "      <td>0.297846</td>\n",
       "    </tr>\n",
       "    <tr>\n",
       "      <th>Bank and Monument</th>\n",
       "      <td>0.290489</td>\n",
       "    </tr>\n",
       "    <tr>\n",
       "      <th>Liverpool Street</th>\n",
       "      <td>0.270807</td>\n",
       "    </tr>\n",
       "    <tr>\n",
       "      <th>King's Cross St. Pancras</th>\n",
       "      <td>0.255307</td>\n",
       "    </tr>\n",
       "    <tr>\n",
       "      <th>Waterloo</th>\n",
       "      <td>0.243921</td>\n",
       "    </tr>\n",
       "    <tr>\n",
       "      <th>Green Park</th>\n",
       "      <td>0.215835</td>\n",
       "    </tr>\n",
       "    <tr>\n",
       "      <th>Euston</th>\n",
       "      <td>0.208324</td>\n",
       "    </tr>\n",
       "    <tr>\n",
       "      <th>Westminster</th>\n",
       "      <td>0.203335</td>\n",
       "    </tr>\n",
       "    <tr>\n",
       "      <th>Baker Street</th>\n",
       "      <td>0.191568</td>\n",
       "    </tr>\n",
       "    <tr>\n",
       "      <th>Finchley Road</th>\n",
       "      <td>0.165085</td>\n",
       "    </tr>\n",
       "  </tbody>\n",
       "</table>\n",
       "</div>"
      ],
      "text/plain": [
       "                          bet_top_norm\n",
       "Stratford                     0.297846\n",
       "Bank and Monument             0.290489\n",
       "Liverpool Street              0.270807\n",
       "King's Cross St. Pancras      0.255307\n",
       "Waterloo                      0.243921\n",
       "Green Park                    0.215835\n",
       "Euston                        0.208324\n",
       "Westminster                   0.203335\n",
       "Baker Street                  0.191568\n",
       "Finchley Road                 0.165085"
      ]
     },
     "execution_count": 10,
     "metadata": {},
     "output_type": "execute_result"
    }
   ],
   "source": [
    "bet_top_LD_norm=nx.betweenness_centrality(Londongraph,normalized=True)\n",
    "bet_top_LD_norm = pd.DataFrame.from_dict(bet_top_LD_norm,columns=['bet_top_norm'],orient='index')\n",
    "bet_top_LD_norm = bet_top_LD_norm.sort_values(by='bet_top_norm', ascending=False)[0:10]\n",
    "bet_top_LD_norm"
   ]
  },
  {
   "cell_type": "code",
   "execution_count": null,
   "id": "66b7d3fe-83be-4b0c-ba09-aedc8e27161c",
   "metadata": {},
   "outputs": [
    {
     "data": {
      "text/plain": [
       "['Stratford',\n",
       " 'Bank and Monument',\n",
       " 'Liverpool Street',\n",
       " \"King's Cross St. Pancras\",\n",
       " 'Waterloo',\n",
       " 'Green Park',\n",
       " 'Euston',\n",
       " 'Westminster',\n",
       " 'Baker Street',\n",
       " 'Finchley Road']"
      ]
     },
     "execution_count": 11,
     "metadata": {},
     "output_type": "execute_result"
    }
   ],
   "source": [
    "top10bet_top = bet_top_LD_norm.index.to_list()\n",
    "top10bet_top"
   ]
  },
  {
   "cell_type": "markdown",
   "id": "e4692cac-aa3a-44bc-b389-f8a8d626ff4c",
   "metadata": {},
   "source": [
    "```\n",
    "Top 2 are significantly higher than the rest\n",
    "```"
   ]
  },
  {
   "cell_type": "markdown",
   "id": "363101cd-8568-4ce5-88d6-f12bfc30f0a0",
   "metadata": {},
   "source": [
    "### I.2. Impact measures:\n",
    "\n",
    "* Find __2 different measures__ to evaluate the impact of the node removal on the network. \n",
    "\n",
    "These need to be __global measures referring to the whole network__ and not to specific nodes or links. \n",
    "\n",
    "* Explain whether these two measures are __specific to the London underground__, or \n",
    "* whether they could __also__ be used to evaluate the resilience of __any other network__."
   ]
  },
  {
   "cell_type": "markdown",
   "id": "a64aff61-c0e1-4007-b268-b19e82344547",
   "metadata": {},
   "source": [
    "#### I.2.1 Components"
   ]
  },
  {
   "cell_type": "markdown",
   "id": "fd8d94ae-b130-4d1e-af70-8cd2c5a21b55",
   "metadata": {},
   "source": [
    "Get the connected components in the updated graph\n",
    "components = list(nx.connected_components(graph))\n",
    "\n",
    "Compute the size of the biggest component in each case\n",
    "biggest_component_sizes = [len(component) for component in components ]\n",
    "biggest_component_size = max(biggest_component_sizes)\n",
    "\n",
    "print(f\"The graph has {len(components )} connected components.\")\n",
    "print(f\"The size of the biggest component is {biggest_component_size}.\")"
   ]
  },
  {
   "cell_type": "code",
   "execution_count": null,
   "id": "0aab4a00-3289-45eb-9c5d-47ac23a4060d",
   "metadata": {},
   "outputs": [],
   "source": [
    "#### I.2.2 average Shortest path length"
   ]
  },
  {
   "cell_type": "markdown",
   "id": "6575a7ec-7efb-42a7-90bb-9bfec4448a47",
   "metadata": {},
   "source": [
    "compute the average shortest path length\n",
    "avg_shortest_path = nx.average_shortest_path_length(G)\n",
    "\n",
    "print(\"The average shortest path length of the graph is: \", avg_shortest_path)"
   ]
  },
  {
   "cell_type": "markdown",
   "id": "b45c9f1d-b2e0-4049-b068-dc80ebc145ab",
   "metadata": {},
   "source": [
    "#### I.2.3 Assortativity measures\n",
    "\n",
    "the similarity of connections in the graph with respect to the node degree.\n",
    "\n"
   ]
  },
  {
   "cell_type": "markdown",
   "id": "4405dee4-4837-4d2f-9504-48949454170c",
   "metadata": {},
   "source": [
    "#### I.2.4 Assortativity measures\n",
    "the similarity of connections in the graph with respect to the node degree."
   ]
  },
  {
   "cell_type": "markdown",
   "id": "64e412c2-af89-468e-916e-8ec478b6d083",
   "metadata": {},
   "source": [
    "### I.3. Node removal\n",
    "\n",
    "For each of the centrality measures selected in 1.\n",
    "\n",
    "- remove at least __10 nodes__ following __two different strategies__. \n",
    "\n"
   ]
  },
  {
   "cell_type": "markdown",
   "id": "ceb2616f-4091-40f7-a1da-5f40f2fa4607",
   "metadata": {},
   "source": [
    "#### A) Non-sequential removal \n",
    "\n",
    "using your table in 1.\n",
    "\n",
    "- remove __1 node__ at a time following the rank in the table, i.e. from the most important one to the 10th most important one. \n",
    "- After each removal, __evaluate the impact__ of the removal using your __two measures__ in 2.\n",
    "- and proceed __until__ you have __removed at least 10 nodes__. \n",
    "\n"
   ]
  },
  {
   "cell_type": "code",
   "execution_count": null,
   "id": "fb2c679f-3784-4d30-888b-80fb8fcdaa90",
   "metadata": {},
   "outputs": [],
   "source": [
    "remove10_dc = top10degree_centr[0:10]\n",
    "remove9_dc = top10degree_centr[0:9]\n",
    "remove8_dc = top10degree_centr[0:8]\n",
    "remove7_dc = top10degree_centr[0:7]\n",
    "remove6_dc = top10degree_centr[0:6]\n",
    "remove5_dc = top10degree_centr[0:5]\n",
    "remove4_dc = top10degree_centr[0:4]\n",
    "remove3_dc = top10degree_centr[0:3]\n",
    "remove2_dc = top10degree_centr[0:2]\n",
    "remove1_dc = top10degree_centr[0:1]"
   ]
  },
  {
   "cell_type": "code",
   "execution_count": null,
   "id": "4052f78c-f070-49cf-a2d3-b74eb4a9409e",
   "metadata": {},
   "outputs": [],
   "source": [
    "remove10_tcc = top10closeness_top[0:10]\n",
    "remove9_tcc = top10closeness_top[0:9]\n",
    "remove8_tcc = top10closeness_top[0:8]\n",
    "remove7_tcc = top10closeness_top[0:7]\n",
    "remove6_tcc = top10closeness_top[0:6]\n",
    "remove5_tcc = top10closeness_top[0:5]\n",
    "remove4_tcc = top10closeness_top[0:4]\n",
    "remove3_tcc = top10closeness_top[0:3]\n",
    "remove2_tcc = top10closeness_top[0:2]\n",
    "remove1_tcc = top10closeness_top[0:1]"
   ]
  },
  {
   "cell_type": "code",
   "execution_count": null,
   "id": "0fff355b-4130-4509-a113-734ddd18e341",
   "metadata": {},
   "outputs": [],
   "source": [
    "remove10_tbc = top10bet_top[0:10]\n",
    "remove9_tbc = top10bet_top[0:9]\n",
    "remove8_tbc = top10bet_top[0:8]\n",
    "remove7_tbc = top10bet_top[0:7]\n",
    "remove6_tbc = top10bet_top[0:6]\n",
    "remove5_tbc = top10bet_top[0:5]\n",
    "remove4_tbc = top10bet_top[0:4]\n",
    "remove3_tbc = top10bet_top[0:3]\n",
    "remove2_tbc = top10bet_top[0:2]\n",
    "remove1_tbc = top10bet_top[0:1]"
   ]
  },
  {
   "cell_type": "code",
   "execution_count": null,
   "id": "1e6f80f7-eb75-41e3-a2e2-f237548db381",
   "metadata": {},
   "outputs": [],
   "source": [
    "# remove the nodes from the graph\n",
    "LG_remove1_dc = Londongraph.copy()\n",
    "LG_remove1_dc.remove_nodes_from(remove1_dc)\n",
    "LG_remove2_dc = Londongraph.copy()\n",
    "LG_remove2_dc.remove_nodes_from(remove2_dc)\n",
    "LG_remove3_dc = Londongraph.copy()\n",
    "LG_remove3_dc.remove_nodes_from(remove3_dc)\n",
    "LG_remove4_dc = Londongraph.copy()\n",
    "LG_remove4_dc.remove_nodes_from(remove4_dc)\n",
    "LG_remove5_dc = Londongraph.copy()\n",
    "LG_remove5_dc.remove_nodes_from(remove5_dc)\n",
    "\n",
    "LG_remove6_dc = Londongraph.copy()\n",
    "LG_remove6_dc.remove_nodes_from(remove6_dc)\n",
    "LG_remove7_dc = Londongraph.copy()\n",
    "LG_remove7_dc.remove_nodes_from(remove7_dc)\n",
    "LG_remove8_dc = Londongraph.copy()\n",
    "LG_remove8_dc.remove_nodes_from(remove8_dc)\n",
    "LG_remove9_dc = Londongraph.copy()\n",
    "LG_remove9_dc.remove_nodes_from(remove9_dc)\n",
    "LG_remove10_dc = Londongraph.copy()\n",
    "LG_remove10_dc.remove_nodes_from(remove10_dc)"
   ]
  },
  {
   "cell_type": "code",
   "execution_count": null,
   "id": "3e666171-7cc5-4f85-82b1-4d1bb7d074b5",
   "metadata": {},
   "outputs": [],
   "source": [
    "# remove the nodes from the graph\n",
    "LG_remove1_tcc = Londongraph.copy()\n",
    "LG_remove1_tcc.remove_nodes_from(remove1_tcc)\n",
    "LG_remove2_tcc = Londongraph.copy()\n",
    "LG_remove2_tcc.remove_nodes_from(remove2_tcc)\n",
    "LG_remove3_tcc = Londongraph.copy()\n",
    "LG_remove3_tcc.remove_nodes_from(remove3_tcc)\n",
    "LG_remove4_tcc = Londongraph.copy()\n",
    "LG_remove4_tcc.remove_nodes_from(remove4_tcc)\n",
    "LG_remove5_tcc = Londongraph.copy()\n",
    "LG_remove5_tcc.remove_nodes_from(remove5_tcc)\n",
    "\n",
    "LG_remove6_tcc = Londongraph.copy()\n",
    "LG_remove6_tcc.remove_nodes_from(remove6_tcc)\n",
    "LG_remove7_tcc = Londongraph.copy()\n",
    "LG_remove7_tcc.remove_nodes_from(remove7_tcc)\n",
    "LG_remove8_tcc = Londongraph.copy()\n",
    "LG_remove8_tcc.remove_nodes_from(remove8_tcc)\n",
    "LG_remove9_tcc = Londongraph.copy()\n",
    "LG_remove9_tcc.remove_nodes_from(remove9_tcc)\n",
    "LG_remove10_tcc = Londongraph.copy()\n",
    "LG_remove10_tcc.remove_nodes_from(remove10_tcc)"
   ]
  },
  {
   "cell_type": "code",
   "execution_count": null,
   "id": "ed2edaea-2d8e-4cc0-9b60-a39ca3cd1572",
   "metadata": {},
   "outputs": [],
   "source": [
    "# remove the nodes from the graph\n",
    "LG_remove1_tbc = Londongraph.copy()\n",
    "LG_remove1_tbc.remove_nodes_from(remove1_tbc)\n",
    "LG_remove2_tbc = Londongraph.copy()\n",
    "LG_remove2_tbc.remove_nodes_from(remove2_tbc)\n",
    "LG_remove3_tbc = Londongraph.copy()\n",
    "LG_remove3_tbc.remove_nodes_from(remove3_tbc)\n",
    "LG_remove4_tbc = Londongraph.copy()\n",
    "LG_remove4_tbc.remove_nodes_from(remove4_tbc)\n",
    "LG_remove5_tbc = Londongraph.copy()\n",
    "LG_remove5_tbc.remove_nodes_from(remove5_tbc)\n",
    "\n",
    "LG_remove6_tbc = Londongraph.copy()\n",
    "LG_remove6_tbc.remove_nodes_from(remove6_tbc)\n",
    "LG_remove7_tbc = Londongraph.copy()\n",
    "LG_remove7_tbc.remove_nodes_from(remove7_tbc)\n",
    "LG_remove8_tbc = Londongraph.copy()\n",
    "LG_remove8_tbc.remove_nodes_from(remove8_tbc)\n",
    "LG_remove9_tbc = Londongraph.copy()\n",
    "LG_remove9_tbc.remove_nodes_from(remove9_tbc)\n",
    "LG_remove10_tbc = Londongraph.copy()\n",
    "LG_remove10_tbc.remove_nodes_from(remove10_tbc)"
   ]
  },
  {
   "cell_type": "code",
   "execution_count": null,
   "id": "3f80f992-4edf-467f-b9ff-7a584e5ec318",
   "metadata": {},
   "outputs": [],
   "source": [
    "graphs_dc = [Londongraph, LG_remove1_dc, LG_remove2_dc, LG_remove3_dc, LG_remove4_dc, LG_remove5_dc, LG_remove6_dc, LG_remove7_dc, LG_remove8_dc, LG_remove9_dc, LG_remove10_dc]\n",
    "graphs_tcc = [Londongraph, LG_remove1_tcc, LG_remove2_tcc, LG_remove3_tcc, LG_remove4_tcc, LG_remove5_tcc, LG_remove6_tcc, LG_remove7_tcc, LG_remove8_tcc, LG_remove9_tcc, LG_remove10_tcc]\n",
    "graphs_tbc = [Londongraph, LG_remove1_tbc, LG_remove2_tbc, LG_remove3_tbc, LG_remove4_tbc, LG_remove5_tbc, LG_remove6_tbc, LG_remove7_tbc, LG_remove8_tbc, LG_remove9_tbc, LG_remove10_tbc]"
   ]
  },
  {
   "cell_type": "markdown",
   "id": "cd1e81a6-ab5f-4685-91cd-521ec254e220",
   "metadata": {},
   "source": [
    "##### define Two Measure --- components & average degree assortativity"
   ]
  },
  {
   "cell_type": "code",
   "execution_count": null,
   "id": "21f2eea3-cd4a-49c1-87c4-5f3a46b4c625",
   "metadata": {},
   "outputs": [],
   "source": [
    "def two_measure(graph):\n",
    "    \n",
    "    edges = graph.number_of_edges()\n",
    "    nodes = graph.number_of_nodes()\n",
    "    \n",
    "    # Get the connected components in the graph\n",
    "    components = list(nx.connected_components(graph))\n",
    "    comp_num = nx.number_connected_components(graph)\n",
    "    # Compute the size of the biggest component\n",
    "    biggest_component_sizes = [len(component) for component in components]\n",
    "    biggest_component_size = max(biggest_component_sizes)\n",
    "    \n",
    "    # compute the average degree assortativity\n",
    "    degree_assortativity = nx.degree_pearson_correlation_coefficient(graph)\n",
    "  \n",
    "    # Create an empty DataFrame\n",
    "    measure_results = pd.DataFrame()\n",
    "    \n",
    "    # return a dictionary with the results\n",
    "    data = {'edges':edges, 'nodes': nodes, 'component': components, 'M1_components' : comp_num ,'M1_biggest_comp': biggest_component_size, 'M2_degree_assort' : degree_assortativity}\n",
    "    measure_results = pd.DataFrame(data)\n",
    "    measure_results = measure_results.drop('component', axis=1)[0:1]\n",
    "    return measure_results"
   ]
  },
  {
   "cell_type": "markdown",
   "id": "6ad3eba9-d1a9-4aef-b08d-4786fef201ec",
   "metadata": {},
   "source": [
    "##### degree centrality top 10 nodes "
   ]
  },
  {
   "cell_type": "code",
   "execution_count": null,
   "id": "00177566-3958-4efd-b68c-c5055aa34e63",
   "metadata": {},
   "outputs": [
    {
     "data": {
      "text/html": [
       "<div>\n",
       "<style scoped>\n",
       "    .dataframe tbody tr th:only-of-type {\n",
       "        vertical-align: middle;\n",
       "    }\n",
       "\n",
       "    .dataframe tbody tr th {\n",
       "        vertical-align: top;\n",
       "    }\n",
       "\n",
       "    .dataframe thead th {\n",
       "        text-align: right;\n",
       "    }\n",
       "</style>\n",
       "<table border=\"1\" class=\"dataframe\">\n",
       "  <thead>\n",
       "    <tr style=\"text-align: right;\">\n",
       "      <th></th>\n",
       "      <th>edges</th>\n",
       "      <th>nodes</th>\n",
       "      <th>M1_components</th>\n",
       "      <th>M1_biggest_comp</th>\n",
       "      <th>M2_degree_assort</th>\n",
       "      <th>removed_station</th>\n",
       "    </tr>\n",
       "  </thead>\n",
       "  <tbody>\n",
       "    <tr>\n",
       "      <th>0</th>\n",
       "      <td>467</td>\n",
       "      <td>401</td>\n",
       "      <td>1</td>\n",
       "      <td>401</td>\n",
       "      <td>0.172911</td>\n",
       "      <td>NA</td>\n",
       "    </tr>\n",
       "    <tr>\n",
       "      <th>1</th>\n",
       "      <td>458</td>\n",
       "      <td>400</td>\n",
       "      <td>3</td>\n",
       "      <td>379</td>\n",
       "      <td>0.199189</td>\n",
       "      <td>Stratford</td>\n",
       "    </tr>\n",
       "    <tr>\n",
       "      <th>2</th>\n",
       "      <td>450</td>\n",
       "      <td>399</td>\n",
       "      <td>3</td>\n",
       "      <td>378</td>\n",
       "      <td>0.169632</td>\n",
       "      <td>Bank and Monument</td>\n",
       "    </tr>\n",
       "    <tr>\n",
       "      <th>3</th>\n",
       "      <td>443</td>\n",
       "      <td>398</td>\n",
       "      <td>3</td>\n",
       "      <td>377</td>\n",
       "      <td>0.165922</td>\n",
       "      <td>Baker Street</td>\n",
       "    </tr>\n",
       "    <tr>\n",
       "      <th>4</th>\n",
       "      <td>436</td>\n",
       "      <td>397</td>\n",
       "      <td>4</td>\n",
       "      <td>374</td>\n",
       "      <td>0.182491</td>\n",
       "      <td>King's Cross St. Pancras</td>\n",
       "    </tr>\n",
       "    <tr>\n",
       "      <th>5</th>\n",
       "      <td>430</td>\n",
       "      <td>396</td>\n",
       "      <td>6</td>\n",
       "      <td>360</td>\n",
       "      <td>0.202764</td>\n",
       "      <td>Canning Town</td>\n",
       "    </tr>\n",
       "    <tr>\n",
       "      <th>6</th>\n",
       "      <td>424</td>\n",
       "      <td>395</td>\n",
       "      <td>6</td>\n",
       "      <td>359</td>\n",
       "      <td>0.131824</td>\n",
       "      <td>Green Park</td>\n",
       "    </tr>\n",
       "    <tr>\n",
       "      <th>7</th>\n",
       "      <td>418</td>\n",
       "      <td>394</td>\n",
       "      <td>6</td>\n",
       "      <td>358</td>\n",
       "      <td>0.094856</td>\n",
       "      <td>Earl's Court</td>\n",
       "    </tr>\n",
       "    <tr>\n",
       "      <th>8</th>\n",
       "      <td>414</td>\n",
       "      <td>393</td>\n",
       "      <td>8</td>\n",
       "      <td>354</td>\n",
       "      <td>0.116114</td>\n",
       "      <td>West Ham</td>\n",
       "    </tr>\n",
       "    <tr>\n",
       "      <th>9</th>\n",
       "      <td>410</td>\n",
       "      <td>392</td>\n",
       "      <td>9</td>\n",
       "      <td>348</td>\n",
       "      <td>0.109374</td>\n",
       "      <td>Liverpool Street</td>\n",
       "    </tr>\n",
       "    <tr>\n",
       "      <th>10</th>\n",
       "      <td>405</td>\n",
       "      <td>391</td>\n",
       "      <td>10</td>\n",
       "      <td>346</td>\n",
       "      <td>0.085453</td>\n",
       "      <td>Oxford Circus</td>\n",
       "    </tr>\n",
       "  </tbody>\n",
       "</table>\n",
       "</div>"
      ],
      "text/plain": [
       "    edges  nodes  M1_components  M1_biggest_comp  M2_degree_assort  \\\n",
       "0     467    401              1              401          0.172911   \n",
       "1     458    400              3              379          0.199189   \n",
       "2     450    399              3              378          0.169632   \n",
       "3     443    398              3              377          0.165922   \n",
       "4     436    397              4              374          0.182491   \n",
       "5     430    396              6              360          0.202764   \n",
       "6     424    395              6              359          0.131824   \n",
       "7     418    394              6              358          0.094856   \n",
       "8     414    393              8              354          0.116114   \n",
       "9     410    392              9              348          0.109374   \n",
       "10    405    391             10              346          0.085453   \n",
       "\n",
       "             removed_station  \n",
       "0                         NA  \n",
       "1                  Stratford  \n",
       "2          Bank and Monument  \n",
       "3               Baker Street  \n",
       "4   King's Cross St. Pancras  \n",
       "5               Canning Town  \n",
       "6                 Green Park  \n",
       "7               Earl's Court  \n",
       "8                   West Ham  \n",
       "9           Liverpool Street  \n",
       "10             Oxford Circus  "
      ]
     },
     "execution_count": 21,
     "metadata": {},
     "output_type": "execute_result"
    }
   ],
   "source": [
    "df_list = []\n",
    "for graph in graphs_dc:\n",
    "    df_list.append(two_measure(graph))\n",
    "dc_result = pd.concat(df_list, ignore_index=True)\n",
    "dc_result['removed_station'] = ['NA'] + remove10_dc\n",
    "dc_result"
   ]
  },
  {
   "cell_type": "code",
   "execution_count": null,
   "id": "455c8847-d113-484f-8c76-f77bc486f4cc",
   "metadata": {},
   "outputs": [
    {
     "data": {
      "text/plain": [
       "Text(0.5, 0, 'Removed station')"
      ]
     },
     "execution_count": 22,
     "metadata": {},
     "output_type": "execute_result"
    },
    {
     "data": {
      "image/png": "[encoded data removed]",
      "text/plain": [
       "<Figure size 1440x504 with 2 Axes>"
      ]
     },
     "metadata": {
      "needs_background": "light"
     },
     "output_type": "display_data"
    }
   ],
   "source": [
    "fig, (ax1, ax2) = plt.subplots(2, 1,figsize=(20,7))\n",
    "ax1.plot(dc_result.removed_station, dc_result.M1_components)\n",
    "ax1.set_title('Non-sequential Removal: Degree Centrality - Measure 1 Components')\n",
    "ax2.plot(dc_result.removed_station, dc_result.M2_degree_assort)\n",
    "ax2.set_title('Non-sequential Removal: Degree Centrality - Measure 2 Average Degree Assortativity')\n",
    "ax2.set_xlabel('Removed station')"
   ]
  },
  {
   "cell_type": "markdown",
   "id": "330d40e7-9af8-4266-b40d-63bc8236f55f",
   "metadata": {},
   "source": [
    "##### topological closeness centrality top 10 nodes "
   ]
  },
  {
   "cell_type": "code",
   "execution_count": null,
   "id": "41b3b621-0664-49ec-b273-77bfd52bff3c",
   "metadata": {},
   "outputs": [
    {
     "data": {
      "text/html": [
       "<div>\n",
       "<style scoped>\n",
       "    .dataframe tbody tr th:only-of-type {\n",
       "        vertical-align: middle;\n",
       "    }\n",
       "\n",
       "    .dataframe tbody tr th {\n",
       "        vertical-align: top;\n",
       "    }\n",
       "\n",
       "    .dataframe thead th {\n",
       "        text-align: right;\n",
       "    }\n",
       "</style>\n",
       "<table border=\"1\" class=\"dataframe\">\n",
       "  <thead>\n",
       "    <tr style=\"text-align: right;\">\n",
       "      <th></th>\n",
       "      <th>edges</th>\n",
       "      <th>nodes</th>\n",
       "      <th>M1_components</th>\n",
       "      <th>M1_biggest_comp</th>\n",
       "      <th>M2_degree_assort</th>\n",
       "      <th>removed_station</th>\n",
       "    </tr>\n",
       "  </thead>\n",
       "  <tbody>\n",
       "    <tr>\n",
       "      <th>0</th>\n",
       "      <td>467</td>\n",
       "      <td>401</td>\n",
       "      <td>1</td>\n",
       "      <td>401</td>\n",
       "      <td>0.172911</td>\n",
       "      <td>NA</td>\n",
       "    </tr>\n",
       "    <tr>\n",
       "      <th>1</th>\n",
       "      <td>461</td>\n",
       "      <td>400</td>\n",
       "      <td>1</td>\n",
       "      <td>400</td>\n",
       "      <td>0.144665</td>\n",
       "      <td>Green Park</td>\n",
       "    </tr>\n",
       "    <tr>\n",
       "      <th>2</th>\n",
       "      <td>453</td>\n",
       "      <td>399</td>\n",
       "      <td>1</td>\n",
       "      <td>399</td>\n",
       "      <td>0.099081</td>\n",
       "      <td>Bank and Monument</td>\n",
       "    </tr>\n",
       "    <tr>\n",
       "      <th>3</th>\n",
       "      <td>446</td>\n",
       "      <td>398</td>\n",
       "      <td>1</td>\n",
       "      <td>398</td>\n",
       "      <td>0.106048</td>\n",
       "      <td>King's Cross St. Pancras</td>\n",
       "    </tr>\n",
       "    <tr>\n",
       "      <th>4</th>\n",
       "      <td>443</td>\n",
       "      <td>397</td>\n",
       "      <td>1</td>\n",
       "      <td>397</td>\n",
       "      <td>0.101691</td>\n",
       "      <td>Westminster</td>\n",
       "    </tr>\n",
       "    <tr>\n",
       "      <th>5</th>\n",
       "      <td>439</td>\n",
       "      <td>396</td>\n",
       "      <td>1</td>\n",
       "      <td>396</td>\n",
       "      <td>0.101468</td>\n",
       "      <td>Waterloo</td>\n",
       "    </tr>\n",
       "    <tr>\n",
       "      <th>6</th>\n",
       "      <td>434</td>\n",
       "      <td>395</td>\n",
       "      <td>1</td>\n",
       "      <td>395</td>\n",
       "      <td>0.076072</td>\n",
       "      <td>Oxford Circus</td>\n",
       "    </tr>\n",
       "    <tr>\n",
       "      <th>7</th>\n",
       "      <td>432</td>\n",
       "      <td>394</td>\n",
       "      <td>1</td>\n",
       "      <td>394</td>\n",
       "      <td>0.086508</td>\n",
       "      <td>Bond Street</td>\n",
       "    </tr>\n",
       "    <tr>\n",
       "      <th>8</th>\n",
       "      <td>431</td>\n",
       "      <td>393</td>\n",
       "      <td>1</td>\n",
       "      <td>393</td>\n",
       "      <td>0.084470</td>\n",
       "      <td>Farringdon</td>\n",
       "    </tr>\n",
       "    <tr>\n",
       "      <th>9</th>\n",
       "      <td>430</td>\n",
       "      <td>392</td>\n",
       "      <td>1</td>\n",
       "      <td>392</td>\n",
       "      <td>0.082428</td>\n",
       "      <td>Angel</td>\n",
       "    </tr>\n",
       "    <tr>\n",
       "      <th>10</th>\n",
       "      <td>427</td>\n",
       "      <td>391</td>\n",
       "      <td>3</td>\n",
       "      <td>389</td>\n",
       "      <td>0.073572</td>\n",
       "      <td>Moorgate</td>\n",
       "    </tr>\n",
       "  </tbody>\n",
       "</table>\n",
       "</div>"
      ],
      "text/plain": [
       "    edges  nodes  M1_components  M1_biggest_comp  M2_degree_assort  \\\n",
       "0     467    401              1              401          0.172911   \n",
       "1     461    400              1              400          0.144665   \n",
       "2     453    399              1              399          0.099081   \n",
       "3     446    398              1              398          0.106048   \n",
       "4     443    397              1              397          0.101691   \n",
       "5     439    396              1              396          0.101468   \n",
       "6     434    395              1              395          0.076072   \n",
       "7     432    394              1              394          0.086508   \n",
       "8     431    393              1              393          0.084470   \n",
       "9     430    392              1              392          0.082428   \n",
       "10    427    391              3              389          0.073572   \n",
       "\n",
       "             removed_station  \n",
       "0                         NA  \n",
       "1                 Green Park  \n",
       "2          Bank and Monument  \n",
       "3   King's Cross St. Pancras  \n",
       "4                Westminster  \n",
       "5                   Waterloo  \n",
       "6              Oxford Circus  \n",
       "7                Bond Street  \n",
       "8                 Farringdon  \n",
       "9                      Angel  \n",
       "10                  Moorgate  "
      ]
     },
     "execution_count": 23,
     "metadata": {},
     "output_type": "execute_result"
    }
   ],
   "source": [
    "df_list = []\n",
    "for graph in graphs_tcc:\n",
    "    df_list.append(two_measure(graph))\n",
    "tcc_result = pd.concat(df_list, ignore_index=True)\n",
    "tcc_result['removed_station'] = ['NA'] + remove10_tcc\n",
    "tcc_result"
   ]
  },
  {
   "cell_type": "code",
   "execution_count": null,
   "id": "105d555f-cffa-4ee3-a3d9-c3033e476755",
   "metadata": {},
   "outputs": [
    {
     "data": {
      "text/plain": [
       "Text(0.5, 0, 'Removed station')"
      ]
     },
     "execution_count": 24,
     "metadata": {},
     "output_type": "execute_result"
    },
    {
     "data": {
      "image/png": "[encoded data removed]",
      "text/plain": [
       "<Figure size 1440x504 with 2 Axes>"
      ]
     },
     "metadata": {
      "needs_background": "light"
     },
     "output_type": "display_data"
    }
   ],
   "source": [
    "fig, (ax1, ax2) = plt.subplots(2, 1,figsize=(20,7))\n",
    "ax1.plot(tcc_result.removed_station, tcc_result.M1_components)\n",
    "ax1.set_title('Non-sequential Removal: Topological Closeness Centrality - Measure 1 Components')\n",
    "ax2.plot(tcc_result.removed_station, tcc_result.M2_degree_assort)\n",
    "ax2.set_title('Non-sequential Removal: Topological Closeness Centrality - Measure 2 Average Degree Assortativity')\n",
    "ax2.set_xlabel('Removed station')"
   ]
  },
  {
   "cell_type": "markdown",
   "id": "6d309c75-e82c-4f11-8b88-27d9a6628596",
   "metadata": {},
   "source": [
    "##### topological betweenness centrality top 10 nodes"
   ]
  },
  {
   "cell_type": "code",
   "execution_count": null,
   "id": "f2693aac-f762-41c7-b075-5e31850a824c",
   "metadata": {},
   "outputs": [
    {
     "data": {
      "text/html": [
       "<div>\n",
       "<style scoped>\n",
       "    .dataframe tbody tr th:only-of-type {\n",
       "        vertical-align: middle;\n",
       "    }\n",
       "\n",
       "    .dataframe tbody tr th {\n",
       "        vertical-align: top;\n",
       "    }\n",
       "\n",
       "    .dataframe thead th {\n",
       "        text-align: right;\n",
       "    }\n",
       "</style>\n",
       "<table border=\"1\" class=\"dataframe\">\n",
       "  <thead>\n",
       "    <tr style=\"text-align: right;\">\n",
       "      <th></th>\n",
       "      <th>edges</th>\n",
       "      <th>nodes</th>\n",
       "      <th>M1_components</th>\n",
       "      <th>M1_biggest_comp</th>\n",
       "      <th>M2_degree_assort</th>\n",
       "      <th>removed_station</th>\n",
       "    </tr>\n",
       "  </thead>\n",
       "  <tbody>\n",
       "    <tr>\n",
       "      <th>0</th>\n",
       "      <td>467</td>\n",
       "      <td>401</td>\n",
       "      <td>1</td>\n",
       "      <td>401</td>\n",
       "      <td>0.172911</td>\n",
       "      <td>NA</td>\n",
       "    </tr>\n",
       "    <tr>\n",
       "      <th>1</th>\n",
       "      <td>458</td>\n",
       "      <td>400</td>\n",
       "      <td>3</td>\n",
       "      <td>379</td>\n",
       "      <td>0.199189</td>\n",
       "      <td>Stratford</td>\n",
       "    </tr>\n",
       "    <tr>\n",
       "      <th>2</th>\n",
       "      <td>450</td>\n",
       "      <td>399</td>\n",
       "      <td>3</td>\n",
       "      <td>378</td>\n",
       "      <td>0.169632</td>\n",
       "      <td>Bank and Monument</td>\n",
       "    </tr>\n",
       "    <tr>\n",
       "      <th>3</th>\n",
       "      <td>446</td>\n",
       "      <td>398</td>\n",
       "      <td>3</td>\n",
       "      <td>377</td>\n",
       "      <td>0.171308</td>\n",
       "      <td>Liverpool Street</td>\n",
       "    </tr>\n",
       "    <tr>\n",
       "      <th>4</th>\n",
       "      <td>439</td>\n",
       "      <td>397</td>\n",
       "      <td>4</td>\n",
       "      <td>371</td>\n",
       "      <td>0.187006</td>\n",
       "      <td>King's Cross St. Pancras</td>\n",
       "    </tr>\n",
       "    <tr>\n",
       "      <th>5</th>\n",
       "      <td>434</td>\n",
       "      <td>396</td>\n",
       "      <td>4</td>\n",
       "      <td>370</td>\n",
       "      <td>0.171124</td>\n",
       "      <td>Waterloo</td>\n",
       "    </tr>\n",
       "    <tr>\n",
       "      <th>6</th>\n",
       "      <td>428</td>\n",
       "      <td>395</td>\n",
       "      <td>4</td>\n",
       "      <td>369</td>\n",
       "      <td>0.106134</td>\n",
       "      <td>Green Park</td>\n",
       "    </tr>\n",
       "    <tr>\n",
       "      <th>7</th>\n",
       "      <td>424</td>\n",
       "      <td>394</td>\n",
       "      <td>5</td>\n",
       "      <td>346</td>\n",
       "      <td>0.102531</td>\n",
       "      <td>Euston</td>\n",
       "    </tr>\n",
       "    <tr>\n",
       "      <th>8</th>\n",
       "      <td>422</td>\n",
       "      <td>393</td>\n",
       "      <td>5</td>\n",
       "      <td>345</td>\n",
       "      <td>0.101135</td>\n",
       "      <td>Westminster</td>\n",
       "    </tr>\n",
       "    <tr>\n",
       "      <th>9</th>\n",
       "      <td>415</td>\n",
       "      <td>392</td>\n",
       "      <td>6</td>\n",
       "      <td>342</td>\n",
       "      <td>0.093029</td>\n",
       "      <td>Baker Street</td>\n",
       "    </tr>\n",
       "    <tr>\n",
       "      <th>10</th>\n",
       "      <td>412</td>\n",
       "      <td>391</td>\n",
       "      <td>7</td>\n",
       "      <td>339</td>\n",
       "      <td>0.101279</td>\n",
       "      <td>Finchley Road</td>\n",
       "    </tr>\n",
       "  </tbody>\n",
       "</table>\n",
       "</div>"
      ],
      "text/plain": [
       "    edges  nodes  M1_components  M1_biggest_comp  M2_degree_assort  \\\n",
       "0     467    401              1              401          0.172911   \n",
       "1     458    400              3              379          0.199189   \n",
       "2     450    399              3              378          0.169632   \n",
       "3     446    398              3              377          0.171308   \n",
       "4     439    397              4              371          0.187006   \n",
       "5     434    396              4              370          0.171124   \n",
       "6     428    395              4              369          0.106134   \n",
       "7     424    394              5              346          0.102531   \n",
       "8     422    393              5              345          0.101135   \n",
       "9     415    392              6              342          0.093029   \n",
       "10    412    391              7              339          0.101279   \n",
       "\n",
       "             removed_station  \n",
       "0                         NA  \n",
       "1                  Stratford  \n",
       "2          Bank and Monument  \n",
       "3           Liverpool Street  \n",
       "4   King's Cross St. Pancras  \n",
       "5                   Waterloo  \n",
       "6                 Green Park  \n",
       "7                     Euston  \n",
       "8                Westminster  \n",
       "9               Baker Street  \n",
       "10             Finchley Road  "
      ]
     },
     "execution_count": 25,
     "metadata": {},
     "output_type": "execute_result"
    }
   ],
   "source": [
    "df_list = []\n",
    "for graph in graphs_tbc:\n",
    "    df_list.append(two_measure(graph))\n",
    "tbc_result = pd.concat(df_list, ignore_index=True)\n",
    "tbc_result['removed_station'] = ['NA'] + remove10_tbc\n",
    "tbc_result"
   ]
  },
  {
   "cell_type": "code",
   "execution_count": null,
   "id": "dd3a819f-aaea-4a2a-8ed6-cc9316734a05",
   "metadata": {},
   "outputs": [
    {
     "data": {
      "text/plain": [
       "Text(0.5, 0, 'Removed station')"
      ]
     },
     "execution_count": 26,
     "metadata": {},
     "output_type": "execute_result"
    },
    {
     "data": {
      "image/png": "[encoded data removed]",
      "text/plain": [
       "<Figure size 1440x504 with 2 Axes>"
      ]
     },
     "metadata": {
      "needs_background": "light"
     },
     "output_type": "display_data"
    }
   ],
   "source": [
    "fig, (ax1, ax2) = plt.subplots(2, 1,figsize=(20,7))\n",
    "ax1.plot(tbc_result.removed_station, tbc_result.M1_components)\n",
    "ax1.set_title('Non-sequential Removal: Topological Betweenness Centrality - Measure 1 Components')\n",
    "ax2.plot(tbc_result.removed_station, tbc_result.M2_degree_assort)\n",
    "ax2.set_title('Non-sequential Removal: Topological Betweenness Centrality - Measure 2 Average Degree Assortativity')\n",
    "ax2.set_xlabel('Removed station')"
   ]
  },
  {
   "cell_type": "markdown",
   "id": "4cc97118-bce4-4765-82ae-601af89c9a69",
   "metadata": {},
   "source": [
    "#### B) Sequential\n",
    "\n",
    "* __remove the highest ranked node__ and evaluate the impact using the 2 measures. After removal, \n",
    "* __re-compute the centrality measure__. \n",
    "* __Remove the highest ranked node__ in the new network and \n",
    "* __evaluate the impact__. \n",
    "* Continue __until removing at least 10 nodes__\n",
    "\n",
    "\n",
    "__Report the results of the 2 strategies in one plot__, and critically discuss the following: \n",
    "\n",
    "* __which centrality measure__ reflects better the importance of a station for the functioning of the underground, \n",
    "* __which strategy__ is more effective at studying resilience, and \n",
    "* __which impact measure__ is better at assessing the damage after node removal."
   ]
  },
  {
   "cell_type": "markdown",
   "id": "9d1d91fb-b7bc-4def-907e-7091f8bf1882",
   "metadata": {},
   "source": [
    "1. compute the centrality measure and remove the highest ranked node\n",
    "2. calculate 2 measures\n",
    "3. compute the centrality measure and remove the highest ranked node\n",
    "4. calculate 2 measures\n",
    "...."
   ]
  },
  {
   "cell_type": "markdown",
   "id": "ecc208c7-397e-4d3b-b3b3-b28310d3ad58",
   "metadata": {},
   "source": [
    "##### B-1 degree centrality"
   ]
  },
  {
   "cell_type": "code",
   "execution_count": null,
   "id": "958fe574-6eaa-43d6-bac4-ace363be39e4",
   "metadata": {},
   "outputs": [
    {
     "data": {
      "text/plain": [
       "['Stratford']"
      ]
     },
     "execution_count": 27,
     "metadata": {},
     "output_type": "execute_result"
    }
   ],
   "source": [
    "DC_seq0 = Londongraph.copy()\n",
    "DC_seq0_df = pd.DataFrame.from_dict(dict(nx.degree_centrality(DC_seq0)),columns=['degree_centrality'],orient='index')\n",
    "DC_seq0_df = DC_seq0_df.sort_values(by='degree_centrality', ascending=False)\n",
    "\n",
    "LG_1_dc_seq = Londongraph.copy()\n",
    "LG_1_dc_seq.remove_nodes_from(DC_seq0_df[0:1].index.to_list())\n",
    "DC_seq0_df[0:1].index.to_list()"
   ]
  },
  {
   "cell_type": "code",
   "execution_count": null,
   "id": "87176d51-d98e-4810-ae2d-0707497f0804",
   "metadata": {},
   "outputs": [
    {
     "data": {
      "text/plain": [
       "['Bank and Monument']"
      ]
     },
     "execution_count": 28,
     "metadata": {},
     "output_type": "execute_result"
    }
   ],
   "source": [
    "DC_seq1 = LG_1_dc_seq.copy()\n",
    "DC_seq1_df = pd.DataFrame.from_dict(dict(nx.degree_centrality(DC_seq1)),columns=['degree_centrality'],orient='index')\n",
    "DC_seq1_df = DC_seq1_df.sort_values(by='degree_centrality', ascending=False)\n",
    "\n",
    "LG_2_dc_seq = LG_1_dc_seq.copy()\n",
    "LG_2_dc_seq.remove_nodes_from(DC_seq1_df[0:1].index.to_list())\n",
    "DC_seq1_df[0:1].index.to_list()"
   ]
  },
  {
   "cell_type": "code",
   "execution_count": null,
   "id": "d989c7ca-8d62-4bde-b882-1eb9df4550f4",
   "metadata": {},
   "outputs": [
    {
     "data": {
      "text/plain": [
       "[\"King's Cross St. Pancras\"]"
      ]
     },
     "execution_count": 29,
     "metadata": {},
     "output_type": "execute_result"
    }
   ],
   "source": [
    "DC_seq2 = LG_2_dc_seq.copy()\n",
    "DC_seq2_df = pd.DataFrame.from_dict(dict(nx.degree_centrality(DC_seq2)),columns=['degree_centrality'],orient='index')\n",
    "DC_seq2_df = DC_seq2_df.sort_values(by='degree_centrality', ascending=False)\n",
    "\n",
    "LG_3_dc_seq = LG_2_dc_seq.copy()\n",
    "LG_3_dc_seq.remove_nodes_from(DC_seq2_df[0:1].index.to_list())\n",
    "DC_seq2_df[0:1].index.to_list()"
   ]
  },
  {
   "cell_type": "code",
   "execution_count": null,
   "id": "0afd5fa0-a3ea-4485-822c-bf75606c2afa",
   "metadata": {},
   "outputs": [
    {
     "data": {
      "text/plain": [
       "['Baker Street']"
      ]
     },
     "execution_count": 30,
     "metadata": {},
     "output_type": "execute_result"
    }
   ],
   "source": [
    "DC_seq3 = LG_3_dc_seq.copy()\n",
    "DC_seq3_df = pd.DataFrame.from_dict(dict(nx.degree_centrality(DC_seq3)),columns=['degree_centrality'],orient='index')\n",
    "DC_seq3_df = DC_seq3_df.sort_values(by='degree_centrality', ascending=False)\n",
    "# DC_seq3_df[0:5]\n",
    "LG_4_dc_seq = LG_3_dc_seq.copy()\n",
    "LG_4_dc_seq.remove_nodes_from(DC_seq3_df[0:1].index.to_list())\n",
    "DC_seq3_df[0:1].index.to_list()"
   ]
  },
  {
   "cell_type": "code",
   "execution_count": null,
   "id": "26fd9112-f83a-4188-a339-75c4c607fef9",
   "metadata": {},
   "outputs": [
    {
     "data": {
      "text/plain": [
       "['Canning Town']"
      ]
     },
     "execution_count": 31,
     "metadata": {},
     "output_type": "execute_result"
    }
   ],
   "source": [
    "DC_seq4 = LG_4_dc_seq.copy()\n",
    "DC_seq4_df = pd.DataFrame.from_dict(dict(nx.degree_centrality(DC_seq4)),columns=['degree_centrality'],orient='index')\n",
    "DC_seq4_df = DC_seq4_df.sort_values(by='degree_centrality', ascending=False)\n",
    "# DC_seq4_df[0:5]\n",
    "LG_5_dc_seq = LG_4_dc_seq.copy()\n",
    "LG_5_dc_seq.remove_nodes_from(DC_seq4_df[0:1].index.to_list())\n",
    "DC_seq4_df[0:1].index.to_list()"
   ]
  },
  {
   "cell_type": "code",
   "execution_count": null,
   "id": "ba6d1cef-f121-4fca-9fe6-66c325ced84f",
   "metadata": {},
   "outputs": [
    {
     "data": {
      "text/plain": [
       "['Green Park']"
      ]
     },
     "execution_count": 32,
     "metadata": {},
     "output_type": "execute_result"
    }
   ],
   "source": [
    "DC_seq5 = LG_5_dc_seq.copy()\n",
    "DC_seq5_df = pd.DataFrame.from_dict(dict(nx.degree_centrality(DC_seq5)),columns=['degree_centrality'],orient='index')\n",
    "DC_seq5_df = DC_seq5_df.sort_values(by='degree_centrality', ascending=False)\n",
    "# DC_seq5_df[0:5]\n",
    "LG_6_dc_seq = LG_5_dc_seq.copy()\n",
    "LG_6_dc_seq.remove_nodes_from(DC_seq5_df[0:1].index.to_list())\n",
    "DC_seq5_df[0:1].index.to_list()"
   ]
  },
  {
   "cell_type": "code",
   "execution_count": null,
   "id": "6ad8db3b-6f82-4cbd-8e36-bf70d88111b0",
   "metadata": {},
   "outputs": [
    {
     "data": {
      "text/plain": [
       "[\"Earl's Court\"]"
      ]
     },
     "execution_count": 33,
     "metadata": {},
     "output_type": "execute_result"
    }
   ],
   "source": [
    "DC_seq6 = LG_6_dc_seq.copy()\n",
    "DC_seq6_df = pd.DataFrame.from_dict(dict(nx.degree_centrality(DC_seq6)),columns=['degree_centrality'],orient='index')\n",
    "DC_seq6_df = DC_seq6_df.sort_values(by='degree_centrality', ascending=False)\n",
    "# DC_seq6_df[0:5]\n",
    "LG_7_dc_seq = LG_6_dc_seq.copy()\n",
    "LG_7_dc_seq.remove_nodes_from(DC_seq6_df[0:1].index.to_list())\n",
    "DC_seq6_df[0:1].index.to_list()"
   ]
  },
  {
   "cell_type": "code",
   "execution_count": null,
   "id": "f2c80c6b-42d2-4f00-8e0e-5a3f9235f6fa",
   "metadata": {},
   "outputs": [
    {
     "data": {
      "text/plain": [
       "['Willesden Junction']"
      ]
     },
     "execution_count": 34,
     "metadata": {},
     "output_type": "execute_result"
    }
   ],
   "source": [
    "DC_seq7 = LG_7_dc_seq.copy()\n",
    "DC_seq7_df = pd.DataFrame.from_dict(dict(nx.degree_centrality(DC_seq7)),columns=['degree_centrality'],orient='index')\n",
    "DC_seq7_df = DC_seq7_df.sort_values(by='degree_centrality', ascending=False)\n",
    "# DC_seq6_df[0:5]\n",
    "LG_8_dc_seq = LG_7_dc_seq.copy()\n",
    "LG_8_dc_seq.remove_nodes_from(DC_seq7_df[0:1].index.to_list())\n",
    "DC_seq7_df[0:1].index.to_list()"
   ]
  },
  {
   "cell_type": "code",
   "execution_count": null,
   "id": "1926f983-cf08-48d8-ab1f-1346fe51a109",
   "metadata": {},
   "outputs": [
    {
     "data": {
      "text/plain": [
       "['Turnham Green']"
      ]
     },
     "execution_count": 35,
     "metadata": {},
     "output_type": "execute_result"
    }
   ],
   "source": [
    "DC_seq8 = LG_8_dc_seq.copy()\n",
    "DC_seq8_df = pd.DataFrame.from_dict(dict(nx.degree_centrality(DC_seq8)),columns=['degree_centrality'],orient='index')\n",
    "DC_seq8_df = DC_seq8_df.sort_values(by='degree_centrality', ascending=False)\n",
    "# DC_seq6_df[0:5]\n",
    "LG_9_dc_seq = LG_8_dc_seq.copy()\n",
    "LG_9_dc_seq.remove_nodes_from(DC_seq8_df[0:1].index.to_list())\n",
    "DC_seq8_df[0:1].index.to_list()"
   ]
  },
  {
   "cell_type": "code",
   "execution_count": null,
   "id": "4b9cdb74-86a9-4943-a707-dac3bec08669",
   "metadata": {},
   "outputs": [
    {
     "data": {
      "text/plain": [
       "['Oxford Circus']"
      ]
     },
     "execution_count": 36,
     "metadata": {},
     "output_type": "execute_result"
    }
   ],
   "source": [
    "DC_seq9 = LG_9_dc_seq.copy()\n",
    "DC_seq9_df = pd.DataFrame.from_dict(dict(nx.degree_centrality(DC_seq9)),columns=['degree_centrality'],orient='index')\n",
    "DC_seq9_df = DC_seq9_df.sort_values(by='degree_centrality', ascending=False)\n",
    "# DC_seq6_df[0:5]\n",
    "LG_10_dc_seq = LG_9_dc_seq.copy()\n",
    "LG_10_dc_seq.remove_nodes_from(DC_seq9_df[0:1].index.to_list())\n",
    "DC_seq9_df[0:1].index.to_list()"
   ]
  },
  {
   "cell_type": "code",
   "execution_count": null,
   "id": "dd2e1fa1-7b89-47b5-beb6-092af26d808c",
   "metadata": {},
   "outputs": [],
   "source": [
    "dc_seq_stations = ['NA'] + DC_seq0_df[0:1].index.to_list()+ DC_seq1_df[0:1].index.to_list() + DC_seq2_df[0:1].index.to_list() + DC_seq3_df[0:1].index.to_list() + DC_seq4_df[0:1].index.to_list() + DC_seq5_df[0:1].index.to_list() + DC_seq6_df[0:1].index.to_list() + DC_seq7_df[0:1].index.to_list() + DC_seq8_df[0:1].index.to_list() + DC_seq9_df[0:1].index.to_list() "
   ]
  },
  {
   "cell_type": "markdown",
   "id": "0f1bafa9-7847-4ef8-9ae8-6963d0f095ed",
   "metadata": {
    "tags": []
   },
   "source": [
    "##### B-2 topological closeness centrality"
   ]
  },
  {
   "cell_type": "code",
   "execution_count": null,
   "id": "d0e5635e-957e-40c6-9d19-5e4b2f55e735",
   "metadata": {},
   "outputs": [
    {
     "data": {
      "text/plain": [
       "['Green Park']"
      ]
     },
     "execution_count": 38,
     "metadata": {},
     "output_type": "execute_result"
    }
   ],
   "source": [
    "tcc_seq0 = Londongraph.copy()\n",
    "tcc_seq0_df = pd.DataFrame.from_dict(dict(nx.closeness_centrality(tcc_seq0)),columns=['closeness_top'],orient='index')\n",
    "tcc_seq0_df = tcc_seq0_df.sort_values(by='closeness_top', ascending=False)\n",
    "\n",
    "LG_1_tcc_seq = Londongraph.copy()\n",
    "LG_1_tcc_seq.remove_nodes_from(tcc_seq0_df[0:1].index.to_list())\n",
    "tcc_seq0_df[0:1].index.to_list()"
   ]
  },
  {
   "cell_type": "code",
   "execution_count": null,
   "id": "5ac1c191-130b-40e1-891a-2f0cf5830862",
   "metadata": {},
   "outputs": [
    {
     "data": {
      "text/plain": [
       "[\"King's Cross St. Pancras\"]"
      ]
     },
     "execution_count": 39,
     "metadata": {},
     "output_type": "execute_result"
    }
   ],
   "source": [
    "tcc_seq1 = LG_1_tcc_seq.copy()\n",
    "tcc_seq1_df = pd.DataFrame.from_dict(dict(nx.closeness_centrality(tcc_seq1)),columns=['closeness_top'],orient='index')\n",
    "tcc_seq1_df = tcc_seq1_df.sort_values(by='closeness_top', ascending=False)\n",
    "\n",
    "LG_2_tcc_seq = LG_1_tcc_seq.copy()\n",
    "LG_2_tcc_seq.remove_nodes_from(tcc_seq1_df[0:1].index.to_list())\n",
    "tcc_seq1_df[0:1].index.to_list()"
   ]
  },
  {
   "cell_type": "code",
   "execution_count": null,
   "id": "7af5d637-cc90-4562-9838-8e81f8f5e54d",
   "metadata": {},
   "outputs": [
    {
     "data": {
      "text/plain": [
       "['Waterloo']"
      ]
     },
     "execution_count": 40,
     "metadata": {},
     "output_type": "execute_result"
    }
   ],
   "source": [
    "tcc_seq2 = LG_2_tcc_seq.copy()\n",
    "tcc_seq2_df = pd.DataFrame.from_dict(dict(nx.closeness_centrality(tcc_seq2)),columns=['closeness_top'],orient='index')\n",
    "tcc_seq2_df = tcc_seq2_df.sort_values(by='closeness_top', ascending=False)\n",
    "\n",
    "LG_3_tcc_seq = LG_2_tcc_seq.copy()\n",
    "LG_3_tcc_seq.remove_nodes_from(tcc_seq2_df[0:1].index.to_list())\n",
    "tcc_seq2_df[0:1].index.to_list()"
   ]
  },
  {
   "cell_type": "code",
   "execution_count": null,
   "id": "d2bb7246-10d6-4ee1-ba4b-6f38b8d72ec7",
   "metadata": {},
   "outputs": [
    {
     "data": {
      "text/plain": [
       "['Bank and Monument']"
      ]
     },
     "execution_count": 41,
     "metadata": {},
     "output_type": "execute_result"
    }
   ],
   "source": [
    "tcc_seq3 = LG_3_tcc_seq.copy()\n",
    "tcc_seq3_df = pd.DataFrame.from_dict(dict(nx.closeness_centrality(tcc_seq3)),columns=['closeness_top'],orient='index')\n",
    "tcc_seq3_df = tcc_seq3_df.sort_values(by='closeness_top', ascending=False)\n",
    "\n",
    "LG_4_tcc_seq = LG_3_tcc_seq.copy()\n",
    "LG_4_tcc_seq.remove_nodes_from(tcc_seq3_df[0:1].index.to_list())\n",
    "tcc_seq3_df[0:1].index.to_list()"
   ]
  },
  {
   "cell_type": "code",
   "execution_count": null,
   "id": "c8150e53-8874-41ce-b1b3-4d9852fde705",
   "metadata": {},
   "outputs": [
    {
     "data": {
      "text/plain": [
       "['West Hampstead']"
      ]
     },
     "execution_count": 42,
     "metadata": {},
     "output_type": "execute_result"
    }
   ],
   "source": [
    "tcc_seq4 = LG_4_tcc_seq.copy()\n",
    "tcc_seq4_df = pd.DataFrame.from_dict(dict(nx.closeness_centrality(tcc_seq4)),columns=['closeness_top'],orient='index')\n",
    "tcc_seq4_df = tcc_seq4_df.sort_values(by='closeness_top', ascending=False)\n",
    "\n",
    "LG_5_tcc_seq = LG_4_tcc_seq.copy()\n",
    "LG_5_tcc_seq.remove_nodes_from(tcc_seq4_df[0:1].index.to_list())\n",
    "tcc_seq4_df[0:1].index.to_list()"
   ]
  },
  {
   "cell_type": "code",
   "execution_count": null,
   "id": "be74ffa2-587b-411f-896b-97ddc0663ada",
   "metadata": {},
   "outputs": [
    {
     "data": {
      "text/plain": [
       "['Canada Water']"
      ]
     },
     "execution_count": 43,
     "metadata": {},
     "output_type": "execute_result"
    }
   ],
   "source": [
    "tcc_seq5 = LG_5_tcc_seq.copy()\n",
    "tcc_seq5_df = pd.DataFrame.from_dict(dict(nx.closeness_centrality(tcc_seq5)),columns=['closeness_top'],orient='index')\n",
    "tcc_seq5_df = tcc_seq5_df.sort_values(by='closeness_top', ascending=False)\n",
    "\n",
    "LG_6_tcc_seq = LG_5_tcc_seq.copy()\n",
    "LG_6_tcc_seq.remove_nodes_from(tcc_seq5_df[0:1].index.to_list())\n",
    "tcc_seq5_df[0:1].index.to_list()"
   ]
  },
  {
   "cell_type": "code",
   "execution_count": null,
   "id": "b9ac0992-5203-43bd-a934-7e67d135cba6",
   "metadata": {},
   "outputs": [
    {
     "data": {
      "text/plain": [
       "['Stratford']"
      ]
     },
     "execution_count": 44,
     "metadata": {},
     "output_type": "execute_result"
    }
   ],
   "source": [
    "tcc_seq6 = LG_6_tcc_seq.copy()\n",
    "tcc_seq6_df = pd.DataFrame.from_dict(dict(nx.closeness_centrality(tcc_seq6)),columns=['closeness_top'],orient='index')\n",
    "tcc_seq6_df = tcc_seq6_df.sort_values(by='closeness_top', ascending=False)\n",
    "\n",
    "LG_7_tcc_seq = LG_6_tcc_seq.copy()\n",
    "LG_7_tcc_seq.remove_nodes_from(tcc_seq6_df[0:1].index.to_list())\n",
    "tcc_seq6_df[0:1].index.to_list()"
   ]
  },
  {
   "cell_type": "code",
   "execution_count": null,
   "id": "ef9bc979-c1c8-46bb-8808-64854d2793cc",
   "metadata": {},
   "outputs": [
    {
     "data": {
      "text/plain": [
       "[\"Earl's Court\"]"
      ]
     },
     "execution_count": 45,
     "metadata": {},
     "output_type": "execute_result"
    }
   ],
   "source": [
    "tcc_seq7 = LG_7_tcc_seq.copy()\n",
    "tcc_seq7_df = pd.DataFrame.from_dict(dict(nx.closeness_centrality(tcc_seq7)),columns=['closeness_top'],orient='index')\n",
    "tcc_seq7_df = tcc_seq7_df.sort_values(by='closeness_top', ascending=False)\n",
    "\n",
    "LG_8_tcc_seq = LG_7_tcc_seq.copy()\n",
    "LG_8_tcc_seq.remove_nodes_from(tcc_seq7_df[0:1].index.to_list())\n",
    "tcc_seq7_df[0:1].index.to_list()"
   ]
  },
  {
   "cell_type": "code",
   "execution_count": null,
   "id": "8db74f90-4e7c-4eef-800c-41cf06d4fae3",
   "metadata": {},
   "outputs": [
    {
     "data": {
      "text/plain": [
       "[\"Shepherd's Bush\"]"
      ]
     },
     "execution_count": 46,
     "metadata": {},
     "output_type": "execute_result"
    }
   ],
   "source": [
    "tcc_seq8 = LG_8_tcc_seq.copy()\n",
    "tcc_seq8_df = pd.DataFrame.from_dict(dict(nx.closeness_centrality(tcc_seq8)),columns=['closeness_top'],orient='index')\n",
    "tcc_seq8_df = tcc_seq8_df.sort_values(by='closeness_top', ascending=False)\n",
    "\n",
    "LG_9_tcc_seq = LG_8_tcc_seq.copy()\n",
    "LG_9_tcc_seq.remove_nodes_from(tcc_seq8_df[0:1].index.to_list())\n",
    "tcc_seq8_df[0:1].index.to_list()"
   ]
  },
  {
   "cell_type": "code",
   "execution_count": null,
   "id": "520fe3fe-32c1-4c2b-b199-041bc036b77b",
   "metadata": {},
   "outputs": [
    {
     "data": {
      "text/plain": [
       "['Oxford Circus']"
      ]
     },
     "execution_count": 47,
     "metadata": {},
     "output_type": "execute_result"
    }
   ],
   "source": [
    "tcc_seq9 = LG_9_tcc_seq.copy()\n",
    "tcc_seq9_df = pd.DataFrame.from_dict(dict(nx.closeness_centrality(tcc_seq9)),columns=['closeness_top'],orient='index')\n",
    "tcc_seq9_df = tcc_seq9_df.sort_values(by='closeness_top', ascending=False)\n",
    "\n",
    "LG_10_tcc_seq = LG_9_tcc_seq.copy()\n",
    "LG_10_tcc_seq.remove_nodes_from(tcc_seq9_df[0:1].index.to_list())\n",
    "tcc_seq9_df[0:1].index.to_list()"
   ]
  },
  {
   "cell_type": "code",
   "execution_count": null,
   "id": "4df90f6f-283a-4704-9a1a-63c7b50fcd8d",
   "metadata": {},
   "outputs": [],
   "source": [
    "tcc_seq_stations = ['NA'] + tcc_seq0_df[0:1].index.to_list()+ tcc_seq1_df[0:1].index.to_list() + tcc_seq2_df[0:1].index.to_list() + tcc_seq3_df[0:1].index.to_list() + tcc_seq4_df[0:1].index.to_list() + tcc_seq5_df[0:1].index.to_list() + tcc_seq6_df[0:1].index.to_list() + tcc_seq7_df[0:1].index.to_list() + tcc_seq8_df[0:1].index.to_list() + tcc_seq9_df[0:1].index.to_list() "
   ]
  },
  {
   "cell_type": "markdown",
   "id": "432da717-7b81-448a-983e-bcc3fb429715",
   "metadata": {
    "tags": []
   },
   "source": [
    "##### B-3 topological betweenness centrality"
   ]
  },
  {
   "cell_type": "code",
   "execution_count": null,
   "id": "cc9f3c85-5b32-4c0c-b364-0327b1976abc",
   "metadata": {},
   "outputs": [
    {
     "data": {
      "text/plain": [
       "['Stratford']"
      ]
     },
     "execution_count": 49,
     "metadata": {},
     "output_type": "execute_result"
    }
   ],
   "source": [
    "tbc_seq0 = Londongraph.copy()\n",
    "tbc_seq0_df = pd.DataFrame.from_dict(dict(nx.betweenness_centrality(tbc_seq0,normalized=False)),columns=['betweenness_top'],orient='index')\n",
    "tbc_seq0_df = tbc_seq0_df.sort_values(by='betweenness_top', ascending=False)\n",
    "\n",
    "LG_1_tbc_seq = Londongraph.copy()\n",
    "LG_1_tbc_seq.remove_nodes_from(tbc_seq0_df[0:1].index.to_list())\n",
    "tbc_seq0_df[0:1].index.to_list()"
   ]
  },
  {
   "cell_type": "code",
   "execution_count": null,
   "id": "8130107a-8e0b-4cb5-98b3-f2875e79b452",
   "metadata": {},
   "outputs": [
    {
     "data": {
      "text/plain": [
       "[\"King's Cross St. Pancras\"]"
      ]
     },
     "execution_count": 50,
     "metadata": {},
     "output_type": "execute_result"
    }
   ],
   "source": [
    "tbc_seq1 = LG_1_tbc_seq.copy()\n",
    "tbc_seq1_df = pd.DataFrame.from_dict(dict(nx.betweenness_centrality(tbc_seq1,normalized=False)),columns=['betweenness_top'],orient='index')\n",
    "tbc_seq1_df = tbc_seq1_df.sort_values(by='betweenness_top', ascending=False)\n",
    "\n",
    "LG_2_tbc_seq = LG_1_tbc_seq.copy()\n",
    "LG_2_tbc_seq.remove_nodes_from(tbc_seq1_df[0:1].index.to_list())\n",
    "tbc_seq1_df[0:1].index.to_list()"
   ]
  },
  {
   "cell_type": "code",
   "execution_count": null,
   "id": "39bbe593-7ec3-4562-9fdb-ed7b89d5152b",
   "metadata": {},
   "outputs": [
    {
     "data": {
      "text/plain": [
       "['Waterloo']"
      ]
     },
     "execution_count": 51,
     "metadata": {},
     "output_type": "execute_result"
    }
   ],
   "source": [
    "tbc_seq2 = LG_2_tbc_seq.copy()\n",
    "tbc_seq2_df = pd.DataFrame.from_dict(dict(nx.betweenness_centrality(tbc_seq2,normalized=False)),columns=['betweenness_top'],orient='index')\n",
    "tbc_seq2_df = tbc_seq2_df.sort_values(by='betweenness_top', ascending=False)\n",
    "\n",
    "LG_3_tbc_seq = LG_2_tbc_seq.copy()\n",
    "LG_3_tbc_seq.remove_nodes_from(tbc_seq2_df[0:1].index.to_list())\n",
    "tbc_seq2_df[0:1].index.to_list()"
   ]
  },
  {
   "cell_type": "code",
   "execution_count": null,
   "id": "70262e11-9983-4aa4-a29c-2605b62086e2",
   "metadata": {},
   "outputs": [
    {
     "data": {
      "text/plain": [
       "['Bank and Monument']"
      ]
     },
     "execution_count": 52,
     "metadata": {},
     "output_type": "execute_result"
    }
   ],
   "source": [
    "tbc_seq3 = LG_3_tbc_seq.copy()\n",
    "tbc_seq3_df = pd.DataFrame.from_dict(dict(nx.betweenness_centrality(tbc_seq3,normalized=False)),columns=['betweenness_top'],orient='index')\n",
    "tbc_seq3_df = tbc_seq3_df.sort_values(by='betweenness_top', ascending=False)\n",
    "\n",
    "LG_4_tbc_seq = LG_3_tbc_seq.copy()\n",
    "LG_4_tbc_seq.remove_nodes_from(tbc_seq3_df[0:1].index.to_list())\n",
    "tbc_seq3_df[0:1].index.to_list()"
   ]
  },
  {
   "cell_type": "code",
   "execution_count": null,
   "id": "c71b858f-6a80-47bc-8357-b4cfb4f78aeb",
   "metadata": {},
   "outputs": [
    {
     "data": {
      "text/plain": [
       "['Canada Water']"
      ]
     },
     "execution_count": 53,
     "metadata": {},
     "output_type": "execute_result"
    }
   ],
   "source": [
    "tbc_seq4 = LG_4_tbc_seq.copy()\n",
    "tbc_seq4_df = pd.DataFrame.from_dict(dict(nx.betweenness_centrality(tbc_seq4,normalized=False)),columns=['betweenness_top'],orient='index')\n",
    "tbc_seq4_df = tbc_seq4_df.sort_values(by='betweenness_top', ascending=False)\n",
    "\n",
    "LG_5_tbc_seq = LG_4_tbc_seq.copy()\n",
    "LG_5_tbc_seq.remove_nodes_from(tbc_seq4_df[0:1].index.to_list())\n",
    "tbc_seq4_df[0:1].index.to_list()"
   ]
  },
  {
   "cell_type": "code",
   "execution_count": null,
   "id": "0ceb7ac8-0cf8-4f08-9e99-4a7333995ede",
   "metadata": {},
   "outputs": [
    {
     "data": {
      "text/plain": [
       "['West Hampstead']"
      ]
     },
     "execution_count": 54,
     "metadata": {},
     "output_type": "execute_result"
    }
   ],
   "source": [
    "tbc_seq5 = LG_5_tbc_seq.copy()\n",
    "tbc_seq5_df = pd.DataFrame.from_dict(dict(nx.betweenness_centrality(tbc_seq5,normalized=False)),columns=['betweenness_top'],orient='index')\n",
    "tbc_seq5_df = tbc_seq5_df.sort_values(by='betweenness_top', ascending=False)\n",
    "\n",
    "LG_6_tbc_seq = LG_5_tbc_seq.copy()\n",
    "LG_6_tbc_seq.remove_nodes_from(tbc_seq5_df[0:1].index.to_list())\n",
    "tbc_seq5_df[0:1].index.to_list()"
   ]
  },
  {
   "cell_type": "code",
   "execution_count": null,
   "id": "0d3b9403-590d-4ad6-bcfe-4f6dd74f47a2",
   "metadata": {},
   "outputs": [
    {
     "data": {
      "text/plain": [
       "[\"Earl's Court\"]"
      ]
     },
     "execution_count": 55,
     "metadata": {},
     "output_type": "execute_result"
    }
   ],
   "source": [
    "tbc_seq6 = LG_6_tbc_seq.copy()\n",
    "tbc_seq6_df = pd.DataFrame.from_dict(dict(nx.betweenness_centrality(tbc_seq6,normalized=False)),columns=['betweenness_top'],orient='index')\n",
    "tbc_seq6_df = tbc_seq6_df.sort_values(by='betweenness_top', ascending=False)\n",
    "\n",
    "LG_7_tbc_seq = LG_6_tbc_seq.copy()\n",
    "LG_7_tbc_seq.remove_nodes_from(tbc_seq6_df[0:1].index.to_list())\n",
    "tbc_seq6_df[0:1].index.to_list()"
   ]
  },
  {
   "cell_type": "code",
   "execution_count": null,
   "id": "5762f9b4-b057-4360-91ad-8a1946d3a337",
   "metadata": {},
   "outputs": [
    {
     "data": {
      "text/plain": [
       "[\"Shepherd's Bush\"]"
      ]
     },
     "execution_count": 56,
     "metadata": {},
     "output_type": "execute_result"
    }
   ],
   "source": [
    "tbc_seq7 = LG_7_tbc_seq.copy()\n",
    "tbc_seq7_df = pd.DataFrame.from_dict(dict(nx.betweenness_centrality(tbc_seq7,normalized=False)),columns=['betweenness_top'],orient='index')\n",
    "tbc_seq7_df = tbc_seq7_df.sort_values(by='betweenness_top', ascending=False)\n",
    "\n",
    "LG_8_tbc_seq = LG_7_tbc_seq.copy()\n",
    "LG_8_tbc_seq.remove_nodes_from(tbc_seq7_df[0:1].index.to_list())\n",
    "tbc_seq7_df[0:1].index.to_list()"
   ]
  },
  {
   "cell_type": "code",
   "execution_count": null,
   "id": "26a6b93a-3531-4b88-ba0e-c045398386ca",
   "metadata": {},
   "outputs": [
    {
     "data": {
      "text/plain": [
       "['Euston']"
      ]
     },
     "execution_count": 57,
     "metadata": {},
     "output_type": "execute_result"
    }
   ],
   "source": [
    "tbc_seq8 = LG_8_tbc_seq.copy()\n",
    "tbc_seq8_df = pd.DataFrame.from_dict(dict(nx.betweenness_centrality(tbc_seq8,normalized=False)),columns=['betweenness_top'],orient='index')\n",
    "tbc_seq8_df = tbc_seq8_df.sort_values(by='betweenness_top', ascending=False)\n",
    "\n",
    "LG_9_tbc_seq = LG_8_tbc_seq.copy()\n",
    "LG_9_tbc_seq.remove_nodes_from(tbc_seq8_df[0:1].index.to_list())\n",
    "tbc_seq8_df[0:1].index.to_list()"
   ]
  },
  {
   "cell_type": "code",
   "execution_count": null,
   "id": "e5951661-764a-4719-9772-42dab66ae711",
   "metadata": {},
   "outputs": [
    {
     "data": {
      "text/plain": [
       "['Baker Street']"
      ]
     },
     "execution_count": 58,
     "metadata": {},
     "output_type": "execute_result"
    }
   ],
   "source": [
    "tbc_seq9 = LG_9_tbc_seq.copy()\n",
    "tbc_seq9_df = pd.DataFrame.from_dict(dict(nx.betweenness_centrality(tbc_seq9,normalized=False)),columns=['betweenness_top'],orient='index')\n",
    "tbc_seq9_df = tbc_seq9_df.sort_values(by='betweenness_top', ascending=False)\n",
    "\n",
    "LG_10_tbc_seq = LG_9_tbc_seq.copy()\n",
    "LG_10_tbc_seq.remove_nodes_from(tbc_seq9_df[0:1].index.to_list())\n",
    "tbc_seq9_df[0:1].index.to_list()"
   ]
  },
  {
   "cell_type": "code",
   "execution_count": null,
   "id": "2a2527f7-7b79-4c7c-8476-02fc42d83a45",
   "metadata": {},
   "outputs": [],
   "source": [
    "# Combine the lists into one list\n",
    "tbc_seq_stations = ['NA'] + tbc_seq0_df[0:1].index.to_list()+ tbc_seq1_df[0:1].index.to_list() + tbc_seq2_df[0:1].index.to_list() + tbc_seq3_df[0:1].index.to_list() + tbc_seq4_df[0:1].index.to_list() + tbc_seq5_df[0:1].index.to_list() + tbc_seq6_df[0:1].index.to_list() + tbc_seq7_df[0:1].index.to_list() + tbc_seq8_df[0:1].index.to_list() + tbc_seq9_df[0:1].index.to_list() "
   ]
  },
  {
   "cell_type": "markdown",
   "id": "cfd64153-e3fd-4bbc-94ed-448fb6106e24",
   "metadata": {},
   "source": [
    "##### two measure result"
   ]
  },
  {
   "cell_type": "code",
   "execution_count": null,
   "id": "1329158d-89c4-47f6-822c-af99c62f66bd",
   "metadata": {},
   "outputs": [],
   "source": [
    "g_dc_seq = [Londongraph, LG_1_dc_seq, LG_2_dc_seq, LG_3_dc_seq, LG_4_dc_seq, LG_5_dc_seq, LG_6_dc_seq, LG_7_dc_seq, LG_8_dc_seq, LG_9_dc_seq, LG_10_dc_seq]\n",
    "\n",
    "g_tcc_seq = [Londongraph, LG_1_tcc_seq, LG_2_tcc_seq, LG_3_tcc_seq, LG_4_tcc_seq, LG_5_tcc_seq, LG_6_tcc_seq, LG_7_tcc_seq, LG_8_tcc_seq, LG_9_tcc_seq, LG_10_tcc_seq]\n",
    "\n",
    "g_tbc_seq = [Londongraph, LG_1_tbc_seq, LG_2_tbc_seq, LG_3_tbc_seq, LG_4_tbc_seq, LG_5_tbc_seq, LG_6_tbc_seq, LG_7_tbc_seq, LG_8_tbc_seq, LG_9_tbc_seq, LG_10_tbc_seq]"
   ]
  },
  {
   "cell_type": "code",
   "execution_count": null,
   "id": "96758a15-79d0-4016-b322-854650035d70",
   "metadata": {},
   "outputs": [
    {
     "data": {
      "text/html": [
       "<div>\n",
       "<style scoped>\n",
       "    .dataframe tbody tr th:only-of-type {\n",
       "        vertical-align: middle;\n",
       "    }\n",
       "\n",
       "    .dataframe tbody tr th {\n",
       "        vertical-align: top;\n",
       "    }\n",
       "\n",
       "    .dataframe thead th {\n",
       "        text-align: right;\n",
       "    }\n",
       "</style>\n",
       "<table border=\"1\" class=\"dataframe\">\n",
       "  <thead>\n",
       "    <tr style=\"text-align: right;\">\n",
       "      <th></th>\n",
       "      <th>edges</th>\n",
       "      <th>nodes</th>\n",
       "      <th>M1_components</th>\n",
       "      <th>M1_biggest_comp</th>\n",
       "      <th>M2_degree_assort</th>\n",
       "      <th>removed_station</th>\n",
       "    </tr>\n",
       "  </thead>\n",
       "  <tbody>\n",
       "    <tr>\n",
       "      <th>0</th>\n",
       "      <td>467</td>\n",
       "      <td>401</td>\n",
       "      <td>1</td>\n",
       "      <td>401</td>\n",
       "      <td>0.172911</td>\n",
       "      <td>NA</td>\n",
       "    </tr>\n",
       "    <tr>\n",
       "      <th>1</th>\n",
       "      <td>458</td>\n",
       "      <td>400</td>\n",
       "      <td>3</td>\n",
       "      <td>379</td>\n",
       "      <td>0.199189</td>\n",
       "      <td>Stratford</td>\n",
       "    </tr>\n",
       "    <tr>\n",
       "      <th>2</th>\n",
       "      <td>450</td>\n",
       "      <td>399</td>\n",
       "      <td>3</td>\n",
       "      <td>378</td>\n",
       "      <td>0.169632</td>\n",
       "      <td>Bank and Monument</td>\n",
       "    </tr>\n",
       "    <tr>\n",
       "      <th>3</th>\n",
       "      <td>443</td>\n",
       "      <td>398</td>\n",
       "      <td>3</td>\n",
       "      <td>377</td>\n",
       "      <td>0.185991</td>\n",
       "      <td>King's Cross St. Pancras</td>\n",
       "    </tr>\n",
       "    <tr>\n",
       "      <th>4</th>\n",
       "      <td>436</td>\n",
       "      <td>397</td>\n",
       "      <td>4</td>\n",
       "      <td>374</td>\n",
       "      <td>0.182491</td>\n",
       "      <td>Baker Street</td>\n",
       "    </tr>\n",
       "    <tr>\n",
       "      <th>5</th>\n",
       "      <td>430</td>\n",
       "      <td>396</td>\n",
       "      <td>6</td>\n",
       "      <td>360</td>\n",
       "      <td>0.202764</td>\n",
       "      <td>Canning Town</td>\n",
       "    </tr>\n",
       "    <tr>\n",
       "      <th>6</th>\n",
       "      <td>424</td>\n",
       "      <td>395</td>\n",
       "      <td>6</td>\n",
       "      <td>359</td>\n",
       "      <td>0.131824</td>\n",
       "      <td>Green Park</td>\n",
       "    </tr>\n",
       "    <tr>\n",
       "      <th>7</th>\n",
       "      <td>418</td>\n",
       "      <td>394</td>\n",
       "      <td>6</td>\n",
       "      <td>358</td>\n",
       "      <td>0.094856</td>\n",
       "      <td>Earl's Court</td>\n",
       "    </tr>\n",
       "    <tr>\n",
       "      <th>8</th>\n",
       "      <td>413</td>\n",
       "      <td>393</td>\n",
       "      <td>7</td>\n",
       "      <td>344</td>\n",
       "      <td>0.105756</td>\n",
       "      <td>Willesden Junction</td>\n",
       "    </tr>\n",
       "    <tr>\n",
       "      <th>9</th>\n",
       "      <td>408</td>\n",
       "      <td>392</td>\n",
       "      <td>8</td>\n",
       "      <td>338</td>\n",
       "      <td>0.090391</td>\n",
       "      <td>Turnham Green</td>\n",
       "    </tr>\n",
       "    <tr>\n",
       "      <th>10</th>\n",
       "      <td>403</td>\n",
       "      <td>391</td>\n",
       "      <td>9</td>\n",
       "      <td>336</td>\n",
       "      <td>0.058750</td>\n",
       "      <td>Oxford Circus</td>\n",
       "    </tr>\n",
       "  </tbody>\n",
       "</table>\n",
       "</div>"
      ],
      "text/plain": [
       "    edges  nodes  M1_components  M1_biggest_comp  M2_degree_assort  \\\n",
       "0     467    401              1              401          0.172911   \n",
       "1     458    400              3              379          0.199189   \n",
       "2     450    399              3              378          0.169632   \n",
       "3     443    398              3              377          0.185991   \n",
       "4     436    397              4              374          0.182491   \n",
       "5     430    396              6              360          0.202764   \n",
       "6     424    395              6              359          0.131824   \n",
       "7     418    394              6              358          0.094856   \n",
       "8     413    393              7              344          0.105756   \n",
       "9     408    392              8              338          0.090391   \n",
       "10    403    391              9              336          0.058750   \n",
       "\n",
       "             removed_station  \n",
       "0                         NA  \n",
       "1                  Stratford  \n",
       "2          Bank and Monument  \n",
       "3   King's Cross St. Pancras  \n",
       "4               Baker Street  \n",
       "5               Canning Town  \n",
       "6                 Green Park  \n",
       "7               Earl's Court  \n",
       "8         Willesden Junction  \n",
       "9              Turnham Green  \n",
       "10             Oxford Circus  "
      ]
     },
     "execution_count": 61,
     "metadata": {},
     "output_type": "execute_result"
    }
   ],
   "source": [
    "df_list = []\n",
    "for graph in g_dc_seq:\n",
    "    df_list.append(two_measure(graph))\n",
    "dc_seq_result = pd.concat(df_list, ignore_index=True)\n",
    "dc_seq_result['removed_station'] = dc_seq_stations\n",
    "dc_seq_result"
   ]
  },
  {
   "cell_type": "code",
   "execution_count": 64,
   "id": "53583f16-53c9-4145-8fb9-a19c2bcb9348",
   "metadata": {},
   "outputs": [
    {
     "data": {
      "text/plain": [
       "Text(0.5, 0, 'Removed station')"
      ]
     },
     "execution_count": 64,
     "metadata": {},
     "output_type": "execute_result"
    },
    {
     "data": {
      "image/png": "[encoded data removed]",
      "text/plain": [
       "<Figure size 1440x504 with 2 Axes>"
      ]
     },
     "metadata": {
      "needs_background": "light"
     },
     "output_type": "display_data"
    }
   ],
   "source": [
    "fig, (ax1, ax2) = plt.subplots(2, 1,figsize=(20,7))\n",
    "ax1.plot(dc_seq_result.removed_station, dc_seq_result.M1_components)\n",
    "ax1.plot(dc_seq_result.removed_station, dc_seq_result.M1_components)\n",
    "ax1.set_title('Sequential Removal: Degree Centrality - Measure 1 Components')\n",
    "\n",
    "ax2.plot(dc_seq_result.removed_station, dc_seq_result.M2_degree_assort)\n",
    "ax2.set_title('Sequential Removal: Degree Centrality - Measure 2 Average Degree Assortativity')\n",
    "ax2.set_xlabel('Removed station')\n"
   ]
  },
  {
   "cell_type": "code",
   "execution_count": 149,
   "id": "7b35c6f0-f2ac-49bd-80fc-b70c39812393",
   "metadata": {},
   "outputs": [
    {
     "data": {
      "text/html": [
       "<div>\n",
       "<style scoped>\n",
       "    .dataframe tbody tr th:only-of-type {\n",
       "        vertical-align: middle;\n",
       "    }\n",
       "\n",
       "    .dataframe tbody tr th {\n",
       "        vertical-align: top;\n",
       "    }\n",
       "\n",
       "    .dataframe thead th {\n",
       "        text-align: right;\n",
       "    }\n",
       "</style>\n",
       "<table border=\"1\" class=\"dataframe\">\n",
       "  <thead>\n",
       "    <tr style=\"text-align: right;\">\n",
       "      <th></th>\n",
       "      <th>edges</th>\n",
       "      <th>nodes</th>\n",
       "      <th>M1_components</th>\n",
       "      <th>M1_biggest_comp</th>\n",
       "      <th>M2_degree_assort</th>\n",
       "      <th>removed_station</th>\n",
       "    </tr>\n",
       "  </thead>\n",
       "  <tbody>\n",
       "    <tr>\n",
       "      <th>0</th>\n",
       "      <td>467</td>\n",
       "      <td>401</td>\n",
       "      <td>1</td>\n",
       "      <td>401</td>\n",
       "      <td>0.172911</td>\n",
       "      <td>NA</td>\n",
       "    </tr>\n",
       "    <tr>\n",
       "      <th>1</th>\n",
       "      <td>461</td>\n",
       "      <td>400</td>\n",
       "      <td>1</td>\n",
       "      <td>400</td>\n",
       "      <td>0.144665</td>\n",
       "      <td>Green Park</td>\n",
       "    </tr>\n",
       "    <tr>\n",
       "      <th>2</th>\n",
       "      <td>454</td>\n",
       "      <td>399</td>\n",
       "      <td>1</td>\n",
       "      <td>399</td>\n",
       "      <td>0.157843</td>\n",
       "      <td>King's Cross St. Pancras</td>\n",
       "    </tr>\n",
       "    <tr>\n",
       "      <th>3</th>\n",
       "      <td>448</td>\n",
       "      <td>398</td>\n",
       "      <td>1</td>\n",
       "      <td>398</td>\n",
       "      <td>0.135890</td>\n",
       "      <td>Waterloo</td>\n",
       "    </tr>\n",
       "    <tr>\n",
       "      <th>4</th>\n",
       "      <td>441</td>\n",
       "      <td>397</td>\n",
       "      <td>1</td>\n",
       "      <td>397</td>\n",
       "      <td>0.102074</td>\n",
       "      <td>Bank and Monument</td>\n",
       "    </tr>\n",
       "    <tr>\n",
       "      <th>5</th>\n",
       "      <td>437</td>\n",
       "      <td>396</td>\n",
       "      <td>1</td>\n",
       "      <td>396</td>\n",
       "      <td>0.098283</td>\n",
       "      <td>West Hampstead</td>\n",
       "    </tr>\n",
       "    <tr>\n",
       "      <th>6</th>\n",
       "      <td>433</td>\n",
       "      <td>395</td>\n",
       "      <td>2</td>\n",
       "      <td>226</td>\n",
       "      <td>0.101330</td>\n",
       "      <td>Canada Water</td>\n",
       "    </tr>\n",
       "    <tr>\n",
       "      <th>7</th>\n",
       "      <td>424</td>\n",
       "      <td>394</td>\n",
       "      <td>4</td>\n",
       "      <td>226</td>\n",
       "      <td>0.101651</td>\n",
       "      <td>Stratford</td>\n",
       "    </tr>\n",
       "    <tr>\n",
       "      <th>8</th>\n",
       "      <td>418</td>\n",
       "      <td>393</td>\n",
       "      <td>4</td>\n",
       "      <td>225</td>\n",
       "      <td>0.070638</td>\n",
       "      <td>Earl's Court</td>\n",
       "    </tr>\n",
       "    <tr>\n",
       "      <th>9</th>\n",
       "      <td>414</td>\n",
       "      <td>392</td>\n",
       "      <td>5</td>\n",
       "      <td>195</td>\n",
       "      <td>0.067349</td>\n",
       "      <td>Shepherd's Bush</td>\n",
       "    </tr>\n",
       "    <tr>\n",
       "      <th>10</th>\n",
       "      <td>409</td>\n",
       "      <td>391</td>\n",
       "      <td>5</td>\n",
       "      <td>194</td>\n",
       "      <td>0.007004</td>\n",
       "      <td>Oxford Circus</td>\n",
       "    </tr>\n",
       "  </tbody>\n",
       "</table>\n",
       "</div>"
      ],
      "text/plain": [
       "    edges  nodes  M1_components  M1_biggest_comp  M2_degree_assort  \\\n",
       "0     467    401              1              401          0.172911   \n",
       "1     461    400              1              400          0.144665   \n",
       "2     454    399              1              399          0.157843   \n",
       "3     448    398              1              398          0.135890   \n",
       "4     441    397              1              397          0.102074   \n",
       "5     437    396              1              396          0.098283   \n",
       "6     433    395              2              226          0.101330   \n",
       "7     424    394              4              226          0.101651   \n",
       "8     418    393              4              225          0.070638   \n",
       "9     414    392              5              195          0.067349   \n",
       "10    409    391              5              194          0.007004   \n",
       "\n",
       "             removed_station  \n",
       "0                         NA  \n",
       "1                 Green Park  \n",
       "2   King's Cross St. Pancras  \n",
       "3                   Waterloo  \n",
       "4          Bank and Monument  \n",
       "5             West Hampstead  \n",
       "6               Canada Water  \n",
       "7                  Stratford  \n",
       "8               Earl's Court  \n",
       "9            Shepherd's Bush  \n",
       "10             Oxford Circus  "
      ]
     },
     "execution_count": 149,
     "metadata": {},
     "output_type": "execute_result"
    }
   ],
   "source": [
    "tcc_list = []\n",
    "for graph in g_tcc_seq:\n",
    "    tcc_list.append(two_measure(graph))\n",
    "tcc_seq_result = pd.concat(tcc_list, ignore_index=True)\n",
    "tcc_seq_result['removed_station'] = tcc_seq_stations\n",
    "tcc_seq_result"
   ]
  },
  {
   "cell_type": "code",
   "execution_count": 150,
   "id": "9f042009-f7a2-41bc-9d96-5e515791d6e6",
   "metadata": {},
   "outputs": [
    {
     "data": {
      "text/plain": [
       "Text(0.5, 0, 'Removed station')"
      ]
     },
     "execution_count": 150,
     "metadata": {},
     "output_type": "execute_result"
    },
    {
     "data": {
      "image/png": "[encoded data removed]",
      "text/plain": [
       "<Figure size 1440x504 with 2 Axes>"
      ]
     },
     "metadata": {
      "needs_background": "light"
     },
     "output_type": "display_data"
    }
   ],
   "source": [
    "fig, (ax1, ax2) = plt.subplots(2, 1,figsize=(20,7))\n",
    "ax1.plot(tcc_seq_result.removed_station, tcc_seq_result.M1_components)\n",
    "ax1.set_title('Sequential Removal: Topological Closeness Centrality - Measure 1 Components')\n",
    "ax2.plot(tcc_seq_result.removed_station, tcc_seq_result.M2_degree_assort)\n",
    "ax2.set_title('Sequential Removal: Topological Closeness Centrality - Measure 2 Average Degree Assortativity')\n",
    "ax2.set_xlabel('Removed station')"
   ]
  },
  {
   "cell_type": "code",
   "execution_count": 151,
   "id": "c2c6f9cf-971c-4e93-9bfb-93be15293457",
   "metadata": {},
   "outputs": [
    {
     "data": {
      "text/html": [
       "<div>\n",
       "<style scoped>\n",
       "    .dataframe tbody tr th:only-of-type {\n",
       "        vertical-align: middle;\n",
       "    }\n",
       "\n",
       "    .dataframe tbody tr th {\n",
       "        vertical-align: top;\n",
       "    }\n",
       "\n",
       "    .dataframe thead th {\n",
       "        text-align: right;\n",
       "    }\n",
       "</style>\n",
       "<table border=\"1\" class=\"dataframe\">\n",
       "  <thead>\n",
       "    <tr style=\"text-align: right;\">\n",
       "      <th></th>\n",
       "      <th>edges</th>\n",
       "      <th>nodes</th>\n",
       "      <th>M1_components</th>\n",
       "      <th>M1_biggest_comp</th>\n",
       "      <th>M2_degree_assort</th>\n",
       "      <th>removed_station</th>\n",
       "    </tr>\n",
       "  </thead>\n",
       "  <tbody>\n",
       "    <tr>\n",
       "      <th>0</th>\n",
       "      <td>467</td>\n",
       "      <td>401</td>\n",
       "      <td>1</td>\n",
       "      <td>401</td>\n",
       "      <td>0.172911</td>\n",
       "      <td>NA</td>\n",
       "    </tr>\n",
       "    <tr>\n",
       "      <th>1</th>\n",
       "      <td>458</td>\n",
       "      <td>400</td>\n",
       "      <td>3</td>\n",
       "      <td>379</td>\n",
       "      <td>0.199189</td>\n",
       "      <td>Stratford</td>\n",
       "    </tr>\n",
       "    <tr>\n",
       "      <th>2</th>\n",
       "      <td>451</td>\n",
       "      <td>399</td>\n",
       "      <td>3</td>\n",
       "      <td>378</td>\n",
       "      <td>0.219106</td>\n",
       "      <td>King's Cross St. Pancras</td>\n",
       "    </tr>\n",
       "    <tr>\n",
       "      <th>3</th>\n",
       "      <td>445</td>\n",
       "      <td>398</td>\n",
       "      <td>3</td>\n",
       "      <td>377</td>\n",
       "      <td>0.188384</td>\n",
       "      <td>Waterloo</td>\n",
       "    </tr>\n",
       "    <tr>\n",
       "      <th>4</th>\n",
       "      <td>438</td>\n",
       "      <td>397</td>\n",
       "      <td>3</td>\n",
       "      <td>376</td>\n",
       "      <td>0.170798</td>\n",
       "      <td>Bank and Monument</td>\n",
       "    </tr>\n",
       "    <tr>\n",
       "      <th>5</th>\n",
       "      <td>434</td>\n",
       "      <td>396</td>\n",
       "      <td>3</td>\n",
       "      <td>375</td>\n",
       "      <td>0.175516</td>\n",
       "      <td>Canada Water</td>\n",
       "    </tr>\n",
       "    <tr>\n",
       "      <th>6</th>\n",
       "      <td>430</td>\n",
       "      <td>395</td>\n",
       "      <td>4</td>\n",
       "      <td>227</td>\n",
       "      <td>0.170200</td>\n",
       "      <td>West Hampstead</td>\n",
       "    </tr>\n",
       "    <tr>\n",
       "      <th>7</th>\n",
       "      <td>424</td>\n",
       "      <td>394</td>\n",
       "      <td>4</td>\n",
       "      <td>226</td>\n",
       "      <td>0.153748</td>\n",
       "      <td>Earl's Court</td>\n",
       "    </tr>\n",
       "    <tr>\n",
       "      <th>8</th>\n",
       "      <td>420</td>\n",
       "      <td>393</td>\n",
       "      <td>5</td>\n",
       "      <td>196</td>\n",
       "      <td>0.155107</td>\n",
       "      <td>Shepherd's Bush</td>\n",
       "    </tr>\n",
       "    <tr>\n",
       "      <th>9</th>\n",
       "      <td>416</td>\n",
       "      <td>392</td>\n",
       "      <td>6</td>\n",
       "      <td>173</td>\n",
       "      <td>0.149491</td>\n",
       "      <td>Euston</td>\n",
       "    </tr>\n",
       "    <tr>\n",
       "      <th>10</th>\n",
       "      <td>409</td>\n",
       "      <td>391</td>\n",
       "      <td>7</td>\n",
       "      <td>170</td>\n",
       "      <td>0.138276</td>\n",
       "      <td>Baker Street</td>\n",
       "    </tr>\n",
       "  </tbody>\n",
       "</table>\n",
       "</div>"
      ],
      "text/plain": [
       "    edges  nodes  M1_components  M1_biggest_comp  M2_degree_assort  \\\n",
       "0     467    401              1              401          0.172911   \n",
       "1     458    400              3              379          0.199189   \n",
       "2     451    399              3              378          0.219106   \n",
       "3     445    398              3              377          0.188384   \n",
       "4     438    397              3              376          0.170798   \n",
       "5     434    396              3              375          0.175516   \n",
       "6     430    395              4              227          0.170200   \n",
       "7     424    394              4              226          0.153748   \n",
       "8     420    393              5              196          0.155107   \n",
       "9     416    392              6              173          0.149491   \n",
       "10    409    391              7              170          0.138276   \n",
       "\n",
       "             removed_station  \n",
       "0                         NA  \n",
       "1                  Stratford  \n",
       "2   King's Cross St. Pancras  \n",
       "3                   Waterloo  \n",
       "4          Bank and Monument  \n",
       "5               Canada Water  \n",
       "6             West Hampstead  \n",
       "7               Earl's Court  \n",
       "8            Shepherd's Bush  \n",
       "9                     Euston  \n",
       "10              Baker Street  "
      ]
     },
     "execution_count": 151,
     "metadata": {},
     "output_type": "execute_result"
    }
   ],
   "source": [
    "tbc_list = []\n",
    "for graph in g_tbc_seq:\n",
    "    tbc_list.append(two_measure(graph))\n",
    "tbc_seq_result = pd.concat(tbc_list , ignore_index=True)\n",
    "tbc_seq_result['removed_station'] = tbc_seq_stations\n",
    "tbc_seq_result"
   ]
  },
  {
   "cell_type": "code",
   "execution_count": 152,
   "id": "45fdc55f-f0e6-461c-bec9-b82d314a60e5",
   "metadata": {},
   "outputs": [
    {
     "data": {
      "text/plain": [
       "Text(0.5, 0, 'Removed station')"
      ]
     },
     "execution_count": 152,
     "metadata": {},
     "output_type": "execute_result"
    },
    {
     "data": {
      "image/png": "[encoded data removed]",
      "text/plain": [
       "<Figure size 1440x504 with 2 Axes>"
      ]
     },
     "metadata": {
      "needs_background": "light"
     },
     "output_type": "display_data"
    }
   ],
   "source": [
    "fig, (ax1, ax2) = plt.subplots(2, 1,figsize=(20,7))\n",
    "ax1.plot(tbc_seq_result.removed_station, tbc_seq_result.M1_components)\n",
    "ax1.set_title('Sequential Removal: Topological Betweenness Centrality - Measure 1 Components')\n",
    "ax2.plot(tbc_seq_result.removed_station, tbc_seq_result.M2_degree_assort)\n",
    "ax2.set_title('Sequential Removal: Topological Betweenness Centrality - Measure 2 Average Degree Assortativity')\n",
    "ax2.set_xlabel('Removed station')"
   ]
  },
  {
   "cell_type": "markdown",
   "id": "ce271bd6-4466-412a-8397-8d3cab2d2a30",
   "metadata": {},
   "source": [
    "## II. Flows: weighted network\n",
    "In this section, you will \n",
    "\n",
    "* include passengers into the underground, and \n",
    "* assess whether different measures need to be used when flows are considered. \n",
    "\n",
    "The network to use in this section is __the weighted network__ given to you in the coursework, where the flows of passengers were assigned to the links between stations."
   ]
  },
  {
   "cell_type": "markdown",
   "id": "aba2b943-fa2c-4a6c-997c-2a6160cf4d8c",
   "metadata": {},
   "source": [
    "### II.1. Consider the centrality measure derived in I.\n",
    "\n",
    "- indicating the most relevant stations for assessing the vulnerability of the underground. \n",
    "- What would you need to do to adjust this measure for a weighted network? \n",
    "- Recompute the ranking of the __10 most important nodes__ according to this __adjusted measure__. \n",
    "- Do you find the __same ones__ as in __I.1__?"
   ]
  },
  {
   "cell_type": "markdown",
   "id": "36935ef3-788c-4c59-9570-89c7f8019858",
   "metadata": {},
   "source": [
    "What would you need to do to adjust this measure for a weighted network?"
   ]
  },
  {
   "cell_type": "markdown",
   "id": "ca2b0954-5236-44a1-bd31-42fe62c694ea",
   "metadata": {},
   "source": [
    "#### degree centrality doesnt consider the weight"
   ]
  },
  {
   "cell_type": "markdown",
   "id": "21ba3e5b-8f33-4fe0-a7f3-98d92ca08e8f",
   "metadata": {},
   "source": [
    "#### try weighted closeness centrality - no same stations"
   ]
  },
  {
   "cell_type": "code",
   "execution_count": 153,
   "id": "1c0991d1-80bf-46c5-8526-11c1cc4170a5",
   "metadata": {},
   "outputs": [
    {
     "data": {
      "text/html": [
       "<div>\n",
       "<style scoped>\n",
       "    .dataframe tbody tr th:only-of-type {\n",
       "        vertical-align: middle;\n",
       "    }\n",
       "\n",
       "    .dataframe tbody tr th {\n",
       "        vertical-align: top;\n",
       "    }\n",
       "\n",
       "    .dataframe thead th {\n",
       "        text-align: right;\n",
       "    }\n",
       "</style>\n",
       "<table border=\"1\" class=\"dataframe\">\n",
       "  <thead>\n",
       "    <tr style=\"text-align: right;\">\n",
       "      <th></th>\n",
       "      <th>closeness_top</th>\n",
       "    </tr>\n",
       "  </thead>\n",
       "  <tbody>\n",
       "    <tr>\n",
       "      <th>Green Park</th>\n",
       "      <td>0.114778</td>\n",
       "    </tr>\n",
       "    <tr>\n",
       "      <th>Bank and Monument</th>\n",
       "      <td>0.113572</td>\n",
       "    </tr>\n",
       "    <tr>\n",
       "      <th>King's Cross St. Pancras</th>\n",
       "      <td>0.113443</td>\n",
       "    </tr>\n",
       "    <tr>\n",
       "      <th>Westminster</th>\n",
       "      <td>0.112549</td>\n",
       "    </tr>\n",
       "    <tr>\n",
       "      <th>Waterloo</th>\n",
       "      <td>0.112265</td>\n",
       "    </tr>\n",
       "    <tr>\n",
       "      <th>Oxford Circus</th>\n",
       "      <td>0.111204</td>\n",
       "    </tr>\n",
       "    <tr>\n",
       "      <th>Bond Street</th>\n",
       "      <td>0.110988</td>\n",
       "    </tr>\n",
       "    <tr>\n",
       "      <th>Farringdon</th>\n",
       "      <td>0.110742</td>\n",
       "    </tr>\n",
       "    <tr>\n",
       "      <th>Angel</th>\n",
       "      <td>0.110742</td>\n",
       "    </tr>\n",
       "    <tr>\n",
       "      <th>Moorgate</th>\n",
       "      <td>0.110314</td>\n",
       "    </tr>\n",
       "  </tbody>\n",
       "</table>\n",
       "</div>"
      ],
      "text/plain": [
       "                          closeness_top\n",
       "Green Park                     0.114778\n",
       "Bank and Monument              0.113572\n",
       "King's Cross St. Pancras       0.113443\n",
       "Westminster                    0.112549\n",
       "Waterloo                       0.112265\n",
       "Oxford Circus                  0.111204\n",
       "Bond Street                    0.110988\n",
       "Farringdon                     0.110742\n",
       "Angel                          0.110742\n",
       "Moorgate                       0.110314"
      ]
     },
     "execution_count": 153,
     "metadata": {},
     "output_type": "execute_result"
    }
   ],
   "source": [
    "closeness_top"
   ]
  },
  {
   "cell_type": "code",
   "execution_count": 154,
   "id": "9b7a7d39-7921-4453-bf46-98cd46ba2c17",
   "metadata": {},
   "outputs": [
    {
     "data": {
      "text/html": [
       "<div>\n",
       "<style scoped>\n",
       "    .dataframe tbody tr th:only-of-type {\n",
       "        vertical-align: middle;\n",
       "    }\n",
       "\n",
       "    .dataframe tbody tr th {\n",
       "        vertical-align: top;\n",
       "    }\n",
       "\n",
       "    .dataframe thead th {\n",
       "        text-align: right;\n",
       "    }\n",
       "</style>\n",
       "<table border=\"1\" class=\"dataframe\">\n",
       "  <thead>\n",
       "    <tr style=\"text-align: right;\">\n",
       "      <th></th>\n",
       "      <th>clos_wei_flow</th>\n",
       "      <th>clos_wei_flow_000000</th>\n",
       "    </tr>\n",
       "  </thead>\n",
       "  <tbody>\n",
       "    <tr>\n",
       "      <th>West Hampstead</th>\n",
       "      <td>0.000006</td>\n",
       "      <td>6.134994</td>\n",
       "    </tr>\n",
       "    <tr>\n",
       "      <th>Finchley Road &amp; Frognal</th>\n",
       "      <td>0.000006</td>\n",
       "      <td>6.092548</td>\n",
       "    </tr>\n",
       "    <tr>\n",
       "      <th>Hampstead Heath</th>\n",
       "      <td>0.000006</td>\n",
       "      <td>6.053351</td>\n",
       "    </tr>\n",
       "    <tr>\n",
       "      <th>Gospel Oak</th>\n",
       "      <td>0.000006</td>\n",
       "      <td>6.034154</td>\n",
       "    </tr>\n",
       "    <tr>\n",
       "      <th>Brondesbury</th>\n",
       "      <td>0.000006</td>\n",
       "      <td>6.031832</td>\n",
       "    </tr>\n",
       "    <tr>\n",
       "      <th>Upper Holloway</th>\n",
       "      <td>0.000006</td>\n",
       "      <td>5.997334</td>\n",
       "    </tr>\n",
       "    <tr>\n",
       "      <th>Kentish Town West</th>\n",
       "      <td>0.000006</td>\n",
       "      <td>5.955428</td>\n",
       "    </tr>\n",
       "    <tr>\n",
       "      <th>Crouch Hill</th>\n",
       "      <td>0.000006</td>\n",
       "      <td>5.943015</td>\n",
       "    </tr>\n",
       "    <tr>\n",
       "      <th>Brondesbury Park</th>\n",
       "      <td>0.000006</td>\n",
       "      <td>5.930374</td>\n",
       "    </tr>\n",
       "    <tr>\n",
       "      <th>Camden Road</th>\n",
       "      <td>0.000006</td>\n",
       "      <td>5.913896</td>\n",
       "    </tr>\n",
       "  </tbody>\n",
       "</table>\n",
       "</div>"
      ],
      "text/plain": [
       "                         clos_wei_flow  clos_wei_flow_000000\n",
       "West Hampstead                0.000006              6.134994\n",
       "Finchley Road & Frognal       0.000006              6.092548\n",
       "Hampstead Heath               0.000006              6.053351\n",
       "Gospel Oak                    0.000006              6.034154\n",
       "Brondesbury                   0.000006              6.031832\n",
       "Upper Holloway                0.000006              5.997334\n",
       "Kentish Town West             0.000006              5.955428\n",
       "Crouch Hill                   0.000006              5.943015\n",
       "Brondesbury Park              0.000006              5.930374\n",
       "Camden Road                   0.000006              5.913896"
      ]
     },
     "execution_count": 154,
     "metadata": {},
     "output_type": "execute_result"
    }
   ],
   "source": [
    "clos_wei_flow = nx.closeness_centrality(Londongraph, distance = 'flows') # flows weighted closeness\n",
    "nx.set_node_attributes(Londongraph,clos_wei_flow,'clos_wei_flow') # add the closeness centrality as attribute\n",
    "clos_wei_f10 = pd.DataFrame.from_dict(clos_wei_flow,columns=['clos_wei_flow'],orient='index')\n",
    "clos_wei_f10 = clos_wei_f10.sort_values(by='clos_wei_flow', ascending=False)[0:10]\n",
    "clos_wei_f10['clos_wei_flow_000000'] = clos_wei_f10['clos_wei_flow']*1000000\n",
    "clos_wei_f10_list = clos_wei_f10.index.to_list()\n",
    "clos_wei_f10"
   ]
  },
  {
   "cell_type": "code",
   "execution_count": 155,
   "id": "81b232e6-1989-4fc7-9e31-1847613e9a42",
   "metadata": {},
   "outputs": [
    {
     "name": "stdout",
     "output_type": "stream",
     "text": [
      "The two lists do not have any common values.\n"
     ]
    }
   ],
   "source": [
    "def find_common_values(list1, list2):\n",
    "    set1 = set(list1)\n",
    "    set2 = set(list2)\n",
    "    common_values = set1.intersection(set2)\n",
    "    return common_values\n",
    "\n",
    "common_values = find_common_values(closeness_top.index.to_list(), clos_wei_f10.index.to_list())\n",
    "\n",
    "if len(common_values) > 0:\n",
    "    print(\"The two lists have the following common values:\", common_values)\n",
    "else:\n",
    "    print(\"The two lists do not have any common values.\")"
   ]
  },
  {
   "cell_type": "code",
   "execution_count": 156,
   "id": "1159451e-fbf9-4d7e-aaf5-32f9cc9000d2",
   "metadata": {},
   "outputs": [
    {
     "data": {
      "text/html": [
       "<div>\n",
       "<style scoped>\n",
       "    .dataframe tbody tr th:only-of-type {\n",
       "        vertical-align: middle;\n",
       "    }\n",
       "\n",
       "    .dataframe tbody tr th {\n",
       "        vertical-align: top;\n",
       "    }\n",
       "\n",
       "    .dataframe thead th {\n",
       "        text-align: right;\n",
       "    }\n",
       "</style>\n",
       "<table border=\"1\" class=\"dataframe\">\n",
       "  <thead>\n",
       "    <tr style=\"text-align: right;\">\n",
       "      <th></th>\n",
       "      <th>clos_wei_dist</th>\n",
       "    </tr>\n",
       "  </thead>\n",
       "  <tbody>\n",
       "    <tr>\n",
       "      <th>Green Park</th>\n",
       "      <td>0.114778</td>\n",
       "    </tr>\n",
       "    <tr>\n",
       "      <th>Bank and Monument</th>\n",
       "      <td>0.113572</td>\n",
       "    </tr>\n",
       "    <tr>\n",
       "      <th>King's Cross St. Pancras</th>\n",
       "      <td>0.113443</td>\n",
       "    </tr>\n",
       "    <tr>\n",
       "      <th>Westminster</th>\n",
       "      <td>0.112549</td>\n",
       "    </tr>\n",
       "    <tr>\n",
       "      <th>Waterloo</th>\n",
       "      <td>0.112265</td>\n",
       "    </tr>\n",
       "    <tr>\n",
       "      <th>Oxford Circus</th>\n",
       "      <td>0.111204</td>\n",
       "    </tr>\n",
       "    <tr>\n",
       "      <th>Bond Street</th>\n",
       "      <td>0.110988</td>\n",
       "    </tr>\n",
       "    <tr>\n",
       "      <th>Farringdon</th>\n",
       "      <td>0.110742</td>\n",
       "    </tr>\n",
       "    <tr>\n",
       "      <th>Angel</th>\n",
       "      <td>0.110742</td>\n",
       "    </tr>\n",
       "    <tr>\n",
       "      <th>Moorgate</th>\n",
       "      <td>0.110314</td>\n",
       "    </tr>\n",
       "  </tbody>\n",
       "</table>\n",
       "</div>"
      ],
      "text/plain": [
       "                          clos_wei_dist\n",
       "Green Park                     0.114778\n",
       "Bank and Monument              0.113572\n",
       "King's Cross St. Pancras       0.113443\n",
       "Westminster                    0.112549\n",
       "Waterloo                       0.112265\n",
       "Oxford Circus                  0.111204\n",
       "Bond Street                    0.110988\n",
       "Farringdon                     0.110742\n",
       "Angel                          0.110742\n",
       "Moorgate                       0.110314"
      ]
     },
     "execution_count": 156,
     "metadata": {},
     "output_type": "execute_result"
    }
   ],
   "source": [
    "clos_wei_dist = nx.closeness_centrality(Londongraph, distance = 'distance') # distance weighted closeness\n",
    "clos_wei_d10 = pd.DataFrame.from_dict(clos_wei_dist,columns=['clos_wei_dist'],orient='index')\n",
    "clos_wei_d10 = clos_wei_d10.sort_values(by='clos_wei_dist', ascending=False)[0:10]\n",
    "clos_wei_d10_list = clos_wei_d10.index.to_list()\n",
    "clos_wei_d10"
   ]
  },
  {
   "cell_type": "markdown",
   "id": "44732d47-319f-47df-a2d7-831d3d992887",
   "metadata": {},
   "source": [
    "#### try weighted betweeness centrality - common values: {'Stratford'}"
   ]
  },
  {
   "cell_type": "code",
   "execution_count": 157,
   "id": "3a5e4d7c-afee-471a-9453-d016a7d0981a",
   "metadata": {},
   "outputs": [
    {
     "data": {
      "text/html": [
       "<div>\n",
       "<style scoped>\n",
       "    .dataframe tbody tr th:only-of-type {\n",
       "        vertical-align: middle;\n",
       "    }\n",
       "\n",
       "    .dataframe tbody tr th {\n",
       "        vertical-align: top;\n",
       "    }\n",
       "\n",
       "    .dataframe thead th {\n",
       "        text-align: right;\n",
       "    }\n",
       "</style>\n",
       "<table border=\"1\" class=\"dataframe\">\n",
       "  <thead>\n",
       "    <tr style=\"text-align: right;\">\n",
       "      <th></th>\n",
       "      <th>bet_wei_flow</th>\n",
       "    </tr>\n",
       "  </thead>\n",
       "  <tbody>\n",
       "    <tr>\n",
       "      <th>West Hampstead</th>\n",
       "      <td>0.389821</td>\n",
       "    </tr>\n",
       "    <tr>\n",
       "      <th>Gospel Oak</th>\n",
       "      <td>0.312569</td>\n",
       "    </tr>\n",
       "    <tr>\n",
       "      <th>Finchley Road &amp; Frognal</th>\n",
       "      <td>0.302318</td>\n",
       "    </tr>\n",
       "    <tr>\n",
       "      <th>Hampstead Heath</th>\n",
       "      <td>0.301717</td>\n",
       "    </tr>\n",
       "    <tr>\n",
       "      <th>Willesden Junction</th>\n",
       "      <td>0.287309</td>\n",
       "    </tr>\n",
       "    <tr>\n",
       "      <th>Stratford</th>\n",
       "      <td>0.266444</td>\n",
       "    </tr>\n",
       "    <tr>\n",
       "      <th>Brondesbury</th>\n",
       "      <td>0.253343</td>\n",
       "    </tr>\n",
       "    <tr>\n",
       "      <th>Brondesbury Park</th>\n",
       "      <td>0.251883</td>\n",
       "    </tr>\n",
       "    <tr>\n",
       "      <th>Kensal Rise</th>\n",
       "      <td>0.250435</td>\n",
       "    </tr>\n",
       "    <tr>\n",
       "      <th>Kentish Town West</th>\n",
       "      <td>0.171610</td>\n",
       "    </tr>\n",
       "  </tbody>\n",
       "</table>\n",
       "</div>"
      ],
      "text/plain": [
       "                         bet_wei_flow\n",
       "West Hampstead               0.389821\n",
       "Gospel Oak                   0.312569\n",
       "Finchley Road & Frognal      0.302318\n",
       "Hampstead Heath              0.301717\n",
       "Willesden Junction           0.287309\n",
       "Stratford                    0.266444\n",
       "Brondesbury                  0.253343\n",
       "Brondesbury Park             0.251883\n",
       "Kensal Rise                  0.250435\n",
       "Kentish Town West            0.171610"
      ]
     },
     "execution_count": 157,
     "metadata": {},
     "output_type": "execute_result"
    }
   ],
   "source": [
    "bet_wei_flow = nx.betweenness_centrality(Londongraph, weight = 'flows') # flows weighted closeness\n",
    "nx.set_node_attributes(Londongraph,bet_wei_flow,'bet_wei_flow') # add the closeness centrality as attribute\n",
    "bet_wei_f10 = pd.DataFrame.from_dict(bet_wei_flow,columns=['bet_wei_flow'],orient='index')\n",
    "bet_wei_f10 = bet_wei_f10.sort_values(by='bet_wei_flow', ascending=False)[0:10]\n",
    "bet_wei_f10_list = bet_wei_f10.index.to_list()\n",
    "bet_wei_f10"
   ]
  },
  {
   "cell_type": "code",
   "execution_count": 158,
   "id": "b4088d07-1a92-4ec3-bf40-9998383d1f14",
   "metadata": {},
   "outputs": [
    {
     "name": "stdout",
     "output_type": "stream",
     "text": [
      "The two lists have the following common values: {'Stratford'}\n"
     ]
    }
   ],
   "source": [
    "common_values = find_common_values(betweenness_top.index.to_list(), bet_wei_f10.index.to_list())\n",
    "\n",
    "if len(common_values) > 0:\n",
    "    print(\"The two lists have the following common values:\", common_values)\n",
    "else:\n",
    "    print(\"The two lists do not have any common values.\")"
   ]
  },
  {
   "cell_type": "markdown",
   "id": "69e254e0-e3fa-40f8-8ac4-f6d76c23c662",
   "metadata": {},
   "source": [
    "### II.2. Now consider the measure for assessing the impact of node removal. \n",
    "\n",
    "- Would you adjust the measure for a weighted network? \n",
    "- If yes, how? \n",
    "- Propose a different measure that would be better at assessing the impact of closing a station taking into consideration the passengers.\n"
   ]
  },
  {
   "cell_type": "code",
   "execution_count": 159,
   "id": "02b7f98e-337b-47e3-a3a5-2141422116cc",
   "metadata": {},
   "outputs": [
    {
     "data": {
      "text/plain": [
       "('Liverpool Street',\n",
       " 'Stratford',\n",
       " {'length': 6698.461270481078, 'line_name': 'TfL Rail', 'flows': 163969})"
      ]
     },
     "execution_count": 159,
     "metadata": {},
     "output_type": "execute_result"
    }
   ],
   "source": [
    "list(Londongraph.edges(data=True))[0]"
   ]
  },
  {
   "cell_type": "markdown",
   "id": "0476dbb2-7869-4018-b1e1-63710bb1e24b",
   "metadata": {},
   "source": [
    "#### define adjusted two measure"
   ]
  },
  {
   "cell_type": "code",
   "execution_count": 160,
   "id": "b3e61757-134c-4734-8230-6dd3115b84a6",
   "metadata": {},
   "outputs": [],
   "source": [
    "# Define the two_measure function\n",
    "def adj_two_measure(graph):\n",
    "    \n",
    "    edges = graph.number_of_edges()\n",
    "    nodes = graph.number_of_nodes()\n",
    "    \n",
    "    # Get the connected components in the graph\n",
    "    components = list(nx.connected_components(graph))\n",
    "    comp_num = nx.number_connected_components(graph)\n",
    "    # Compute the size of the biggest component\n",
    "    biggest_component_sizes = [len(component) for component in components]\n",
    "    biggest_component_size = max(biggest_component_sizes)\n",
    "        \n",
    "    # compute the average degree assortativity\n",
    "    degree_assort = nx.degree_pearson_correlation_coefficient(graph, weight = 'flows')\n",
    "  \n",
    "    # Create an empty DataFrame\n",
    "    measure_results = pd.DataFrame()\n",
    "    \n",
    "    # return a dictionary with the results\n",
    "    data = {'edges':edges, 'nodes': nodes, 'component': components, 'M1_components' : comp_num ,'M1_biggest_comp': biggest_component_size, 'M2_degree_assort' : degree_assort}\n",
    "    measure_results = pd.DataFrame(data)\n",
    "    measure_results = measure_results.drop('component', axis=1)[0:1]\n",
    "    return measure_results"
   ]
  },
  {
   "cell_type": "code",
   "execution_count": 161,
   "id": "390620d7-f77c-45d7-b47f-d1f49655f1aa",
   "metadata": {},
   "outputs": [
    {
     "data": {
      "text/html": [
       "<div>\n",
       "<style scoped>\n",
       "    .dataframe tbody tr th:only-of-type {\n",
       "        vertical-align: middle;\n",
       "    }\n",
       "\n",
       "    .dataframe tbody tr th {\n",
       "        vertical-align: top;\n",
       "    }\n",
       "\n",
       "    .dataframe thead th {\n",
       "        text-align: right;\n",
       "    }\n",
       "</style>\n",
       "<table border=\"1\" class=\"dataframe\">\n",
       "  <thead>\n",
       "    <tr style=\"text-align: right;\">\n",
       "      <th></th>\n",
       "      <th>edges</th>\n",
       "      <th>nodes</th>\n",
       "      <th>M1_components</th>\n",
       "      <th>M1_biggest_comp</th>\n",
       "      <th>M2_degree_assort</th>\n",
       "    </tr>\n",
       "  </thead>\n",
       "  <tbody>\n",
       "    <tr>\n",
       "      <th>0</th>\n",
       "      <td>458</td>\n",
       "      <td>400</td>\n",
       "      <td>3</td>\n",
       "      <td>379</td>\n",
       "      <td>0.440153</td>\n",
       "    </tr>\n",
       "  </tbody>\n",
       "</table>\n",
       "</div>"
      ],
      "text/plain": [
       "   edges  nodes  M1_components  M1_biggest_comp  M2_degree_assort\n",
       "0    458    400              3              379          0.440153"
      ]
     },
     "execution_count": 161,
     "metadata": {},
     "output_type": "execute_result"
    }
   ],
   "source": [
    "adj_two_measure(LG_remove1_dc)"
   ]
  },
  {
   "cell_type": "markdown",
   "id": "8f23148b-3092-46c9-ad18-314d10c2a469",
   "metadata": {},
   "source": [
    "#### define new measure"
   ]
  },
  {
   "cell_type": "code",
   "execution_count": 162,
   "id": "cdb6e9c0-4955-40c0-adfb-68c067f7eeab",
   "metadata": {},
   "outputs": [],
   "source": [
    "def new_measure(graph):\n",
    "\n",
    "    edges = graph.number_of_edges()\n",
    "    nodes = graph.number_of_nodes()\n",
    "    \n",
    "    # compute weighted graph\n",
    "    df_list = []\n",
    "    \n",
    "    for comp in list(nx.connected_components(graph)):\n",
    "        subgraph = graph.subgraph(comp)\n",
    "        a_s_p_l = nx.average_shortest_path_length(subgraph, weight = 'flows')\n",
    "        df_list.append(a_s_p_l)\n",
    "        \n",
    "    # Create an empty DataFrame\n",
    "    measure_results = pd.DataFrame()\n",
    "    \n",
    "    # return a dictionary with the results\n",
    "    data = {'edges':edges, 'nodes': nodes,'aver_shorte_path_length_w' : [max(df_list)]}\n",
    "    measure_results = pd.DataFrame(data)\n",
    "    return measure_results"
   ]
  },
  {
   "cell_type": "code",
   "execution_count": 163,
   "id": "45d2ec1a-db48-443a-8e5e-1124eb1b0268",
   "metadata": {},
   "outputs": [
    {
     "data": {
      "text/html": [
       "<div>\n",
       "<style scoped>\n",
       "    .dataframe tbody tr th:only-of-type {\n",
       "        vertical-align: middle;\n",
       "    }\n",
       "\n",
       "    .dataframe tbody tr th {\n",
       "        vertical-align: top;\n",
       "    }\n",
       "\n",
       "    .dataframe thead th {\n",
       "        text-align: right;\n",
       "    }\n",
       "</style>\n",
       "<table border=\"1\" class=\"dataframe\">\n",
       "  <thead>\n",
       "    <tr style=\"text-align: right;\">\n",
       "      <th></th>\n",
       "      <th>edges</th>\n",
       "      <th>nodes</th>\n",
       "      <th>aver_shorte_path_length_w</th>\n",
       "    </tr>\n",
       "  </thead>\n",
       "  <tbody>\n",
       "    <tr>\n",
       "      <th>0</th>\n",
       "      <td>458</td>\n",
       "      <td>400</td>\n",
       "      <td>250854.751532</td>\n",
       "    </tr>\n",
       "  </tbody>\n",
       "</table>\n",
       "</div>"
      ],
      "text/plain": [
       "   edges  nodes  aver_shorte_path_length_w\n",
       "0    458    400              250854.751532"
      ]
     },
     "execution_count": 163,
     "metadata": {},
     "output_type": "execute_result"
    }
   ],
   "source": [
    "new_measure(LG_remove1_dc)"
   ]
  },
  {
   "cell_type": "markdown",
   "id": "d4c76ca7-b677-4e6f-8055-6515f025e5ac",
   "metadata": {},
   "source": [
    "### II.3. Remove only the 3 highest ranked nodes according to the best performing centrality measure found in I.1. \n",
    "\n",
    "- Evaluate the impact according to the 2 measures in II.2. \n",
    "- Repeat the experiment for the highest 3 ranked nodes using the adjusted measure. \n",
    "- Critically discuss which station closure will have the largest impact on passengers, referring to your measures and results."
   ]
  },
  {
   "cell_type": "markdown",
   "id": "f5710ecb-8da7-4194-88aa-4dec615310fd",
   "metadata": {},
   "source": [
    "#### calculate weighted betweeness centrality"
   ]
  },
  {
   "cell_type": "code",
   "execution_count": 164,
   "id": "20999a64-ab97-431c-a940-ccd3376453d5",
   "metadata": {},
   "outputs": [
    {
     "data": {
      "text/plain": [
       "['Stratford', 'Bank and Monument', 'Liverpool Street']"
      ]
     },
     "execution_count": 164,
     "metadata": {},
     "output_type": "execute_result"
    }
   ],
   "source": [
    "betweenness_top.index.to_list()[0:3]"
   ]
  },
  {
   "cell_type": "code",
   "execution_count": 165,
   "id": "b218c13d-b249-4ad2-aa12-13003aba7d6d",
   "metadata": {},
   "outputs": [
    {
     "data": {
      "text/html": [
       "<div>\n",
       "<style scoped>\n",
       "    .dataframe tbody tr th:only-of-type {\n",
       "        vertical-align: middle;\n",
       "    }\n",
       "\n",
       "    .dataframe tbody tr th {\n",
       "        vertical-align: top;\n",
       "    }\n",
       "\n",
       "    .dataframe thead th {\n",
       "        text-align: right;\n",
       "    }\n",
       "</style>\n",
       "<table border=\"1\" class=\"dataframe\">\n",
       "  <thead>\n",
       "    <tr style=\"text-align: right;\">\n",
       "      <th></th>\n",
       "      <th>bet_top_wei</th>\n",
       "    </tr>\n",
       "  </thead>\n",
       "  <tbody>\n",
       "    <tr>\n",
       "      <th>West Hampstead</th>\n",
       "      <td>31107.75</td>\n",
       "    </tr>\n",
       "    <tr>\n",
       "      <th>Gospel Oak</th>\n",
       "      <td>24943.00</td>\n",
       "    </tr>\n",
       "    <tr>\n",
       "      <th>Finchley Road &amp; Frognal</th>\n",
       "      <td>24125.00</td>\n",
       "    </tr>\n",
       "  </tbody>\n",
       "</table>\n",
       "</div>"
      ],
      "text/plain": [
       "                         bet_top_wei\n",
       "West Hampstead              31107.75\n",
       "Gospel Oak                  24943.00\n",
       "Finchley Road & Frognal     24125.00"
      ]
     },
     "execution_count": 165,
     "metadata": {},
     "output_type": "execute_result"
    }
   ],
   "source": [
    "bet_wei = nx.betweenness_centrality(Londongraph,normalized=False, weight = 'flows')\n",
    "bet_weight = pd.DataFrame.from_dict(bet_wei,columns=['bet_top_wei'],orient='index')\n",
    "bet_weight = bet_weight.sort_values(by='bet_top_wei', ascending=False)[0:3]\n",
    "bet_weight"
   ]
  },
  {
   "cell_type": "code",
   "execution_count": 166,
   "id": "5204cded-3a61-406f-9ade-f5b97f0815a8",
   "metadata": {},
   "outputs": [],
   "source": [
    "remove1_wbc = bet_weight.index.to_list()[0:1]\n",
    "remove2_wbc = bet_weight.index.to_list()[0:2]\n",
    "remove3_wbc = bet_weight.index.to_list()[0:3]"
   ]
  },
  {
   "cell_type": "code",
   "execution_count": 167,
   "id": "e12bdb24-f681-4539-85bd-29151b395fb9",
   "metadata": {},
   "outputs": [],
   "source": [
    "LG_remove1_wbc = Londongraph.copy()\n",
    "LG_remove1_wbc.remove_nodes_from(remove1_wbc)\n",
    "LG_remove2_wbc = Londongraph.copy()\n",
    "LG_remove2_wbc.remove_nodes_from(remove2_wbc)\n",
    "LG_remove3_wbc = Londongraph.copy()\n",
    "LG_remove3_wbc.remove_nodes_from(remove3_wbc)\n",
    "\n",
    "graphs_wbc = [Londongraph, LG_remove1_wbc, LG_remove2_wbc, LG_remove3_wbc]"
   ]
  },
  {
   "cell_type": "markdown",
   "id": "77f80c3a-a20b-4374-b622-6065b354dca3",
   "metadata": {},
   "source": [
    "#### original two measure"
   ]
  },
  {
   "cell_type": "code",
   "execution_count": 168,
   "id": "0aa0c2be-8392-4fc3-80e0-391b1803d012",
   "metadata": {},
   "outputs": [
    {
     "data": {
      "text/html": [
       "<div>\n",
       "<style scoped>\n",
       "    .dataframe tbody tr th:only-of-type {\n",
       "        vertical-align: middle;\n",
       "    }\n",
       "\n",
       "    .dataframe tbody tr th {\n",
       "        vertical-align: top;\n",
       "    }\n",
       "\n",
       "    .dataframe thead th {\n",
       "        text-align: right;\n",
       "    }\n",
       "</style>\n",
       "<table border=\"1\" class=\"dataframe\">\n",
       "  <thead>\n",
       "    <tr style=\"text-align: right;\">\n",
       "      <th></th>\n",
       "      <th>edges</th>\n",
       "      <th>nodes</th>\n",
       "      <th>M1_components</th>\n",
       "      <th>M1_biggest_comp</th>\n",
       "      <th>M2_degree_assort</th>\n",
       "      <th>removed_station</th>\n",
       "    </tr>\n",
       "  </thead>\n",
       "  <tbody>\n",
       "    <tr>\n",
       "      <th>0</th>\n",
       "      <td>467</td>\n",
       "      <td>401</td>\n",
       "      <td>1</td>\n",
       "      <td>401</td>\n",
       "      <td>0.172911</td>\n",
       "      <td>NA</td>\n",
       "    </tr>\n",
       "    <tr>\n",
       "      <th>1</th>\n",
       "      <td>463</td>\n",
       "      <td>400</td>\n",
       "      <td>1</td>\n",
       "      <td>400</td>\n",
       "      <td>0.172540</td>\n",
       "      <td>West Hampstead</td>\n",
       "    </tr>\n",
       "    <tr>\n",
       "      <th>2</th>\n",
       "      <td>460</td>\n",
       "      <td>399</td>\n",
       "      <td>2</td>\n",
       "      <td>397</td>\n",
       "      <td>0.175919</td>\n",
       "      <td>Gospel Oak</td>\n",
       "    </tr>\n",
       "    <tr>\n",
       "      <th>3</th>\n",
       "      <td>459</td>\n",
       "      <td>398</td>\n",
       "      <td>2</td>\n",
       "      <td>397</td>\n",
       "      <td>0.173276</td>\n",
       "      <td>Finchley Road &amp; Frognal</td>\n",
       "    </tr>\n",
       "  </tbody>\n",
       "</table>\n",
       "</div>"
      ],
      "text/plain": [
       "   edges  nodes  M1_components  M1_biggest_comp  M2_degree_assort  \\\n",
       "0    467    401              1              401          0.172911   \n",
       "1    463    400              1              400          0.172540   \n",
       "2    460    399              2              397          0.175919   \n",
       "3    459    398              2              397          0.173276   \n",
       "\n",
       "           removed_station  \n",
       "0                       NA  \n",
       "1           West Hampstead  \n",
       "2               Gospel Oak  \n",
       "3  Finchley Road & Frognal  "
      ]
     },
     "execution_count": 168,
     "metadata": {},
     "output_type": "execute_result"
    }
   ],
   "source": [
    "wbc_list = []\n",
    "for graph in graphs_wbc:\n",
    "    wbc_list.append(two_measure(graph))\n",
    "wbc_two_measure = pd.concat(wbc_list, ignore_index=True)\n",
    "wbc_two_measure['removed_station'] = ['NA'] + remove3_wbc\n",
    "wbc_two_measure"
   ]
  },
  {
   "cell_type": "code",
   "execution_count": 169,
   "id": "399213ed-01f4-4414-9de5-b19cae42826d",
   "metadata": {},
   "outputs": [
    {
     "data": {
      "text/plain": [
       "Text(0.5, 0, 'Removed station')"
      ]
     },
     "execution_count": 169,
     "metadata": {},
     "output_type": "execute_result"
    },
    {
     "data": {
      "image/png": "[encoded data removed]",
      "text/plain": [
       "<Figure size 1080x144 with 2 Axes>"
      ]
     },
     "metadata": {
      "needs_background": "light"
     },
     "output_type": "display_data"
    }
   ],
   "source": [
    "fig, (ax1, ax2) = plt.subplots(1, 2,figsize=(15,2))\n",
    "ax1.plot(wbc_two_measure.removed_station, wbc_two_measure.M1_components)\n",
    "ax1.set_title('Weighted Betweenness Centrality - Measure 1 Components')\n",
    "ax1.set_xlabel('Removed station')\n",
    "ax2.plot(wbc_two_measure.removed_station, wbc_two_measure.M2_degree_assort)\n",
    "ax2.set_title('Weighted Betweenness Centrality - Measure 2 Average Degree Assortativity')\n",
    "ax2.set_xlabel('Removed station')"
   ]
  },
  {
   "cell_type": "markdown",
   "id": "c15441de-61df-4bd6-8e52-a05933f2d8f6",
   "metadata": {},
   "source": [
    "#### adjusted two measure & new measure"
   ]
  },
  {
   "cell_type": "code",
   "execution_count": 170,
   "id": "17b2bdac-e16a-4e96-804d-afd6968e5e58",
   "metadata": {},
   "outputs": [
    {
     "data": {
      "text/html": [
       "<div>\n",
       "<style scoped>\n",
       "    .dataframe tbody tr th:only-of-type {\n",
       "        vertical-align: middle;\n",
       "    }\n",
       "\n",
       "    .dataframe tbody tr th {\n",
       "        vertical-align: top;\n",
       "    }\n",
       "\n",
       "    .dataframe thead th {\n",
       "        text-align: right;\n",
       "    }\n",
       "</style>\n",
       "<table border=\"1\" class=\"dataframe\">\n",
       "  <thead>\n",
       "    <tr style=\"text-align: right;\">\n",
       "      <th></th>\n",
       "      <th>edges</th>\n",
       "      <th>nodes</th>\n",
       "      <th>M1_components</th>\n",
       "      <th>M1_biggest_comp</th>\n",
       "      <th>M2_degree_assort</th>\n",
       "      <th>removed_station</th>\n",
       "    </tr>\n",
       "  </thead>\n",
       "  <tbody>\n",
       "    <tr>\n",
       "      <th>0</th>\n",
       "      <td>467</td>\n",
       "      <td>401</td>\n",
       "      <td>1</td>\n",
       "      <td>401</td>\n",
       "      <td>0.409725</td>\n",
       "      <td>NA</td>\n",
       "    </tr>\n",
       "    <tr>\n",
       "      <th>1</th>\n",
       "      <td>463</td>\n",
       "      <td>400</td>\n",
       "      <td>1</td>\n",
       "      <td>400</td>\n",
       "      <td>0.409692</td>\n",
       "      <td>West Hampstead</td>\n",
       "    </tr>\n",
       "    <tr>\n",
       "      <th>2</th>\n",
       "      <td>460</td>\n",
       "      <td>399</td>\n",
       "      <td>2</td>\n",
       "      <td>397</td>\n",
       "      <td>0.408585</td>\n",
       "      <td>Gospel Oak</td>\n",
       "    </tr>\n",
       "    <tr>\n",
       "      <th>3</th>\n",
       "      <td>459</td>\n",
       "      <td>398</td>\n",
       "      <td>2</td>\n",
       "      <td>397</td>\n",
       "      <td>0.408135</td>\n",
       "      <td>Finchley Road &amp; Frognal</td>\n",
       "    </tr>\n",
       "  </tbody>\n",
       "</table>\n",
       "</div>"
      ],
      "text/plain": [
       "   edges  nodes  M1_components  M1_biggest_comp  M2_degree_assort  \\\n",
       "0    467    401              1              401          0.409725   \n",
       "1    463    400              1              400          0.409692   \n",
       "2    460    399              2              397          0.408585   \n",
       "3    459    398              2              397          0.408135   \n",
       "\n",
       "           removed_station  \n",
       "0                       NA  \n",
       "1           West Hampstead  \n",
       "2               Gospel Oak  \n",
       "3  Finchley Road & Frognal  "
      ]
     },
     "execution_count": 170,
     "metadata": {},
     "output_type": "execute_result"
    }
   ],
   "source": [
    "wbc_list = []\n",
    "for graph in graphs_wbc:\n",
    "    wbc_list.append(adj_two_measure(graph))\n",
    "wbc_adj_2_measure = pd.concat(wbc_list, ignore_index=True)\n",
    "wbc_adj_2_measure['removed_station'] = ['NA'] + remove3_wbc\n",
    "wbc_adj_2_measure"
   ]
  },
  {
   "cell_type": "code",
   "execution_count": 171,
   "id": "98203d7e-36a4-435c-b331-be50a0080337",
   "metadata": {},
   "outputs": [
    {
     "data": {
      "text/html": [
       "<div>\n",
       "<style scoped>\n",
       "    .dataframe tbody tr th:only-of-type {\n",
       "        vertical-align: middle;\n",
       "    }\n",
       "\n",
       "    .dataframe tbody tr th {\n",
       "        vertical-align: top;\n",
       "    }\n",
       "\n",
       "    .dataframe thead th {\n",
       "        text-align: right;\n",
       "    }\n",
       "</style>\n",
       "<table border=\"1\" class=\"dataframe\">\n",
       "  <thead>\n",
       "    <tr style=\"text-align: right;\">\n",
       "      <th></th>\n",
       "      <th>edges</th>\n",
       "      <th>nodes</th>\n",
       "      <th>aver_shorte_path_length_w</th>\n",
       "      <th>removed_station</th>\n",
       "    </tr>\n",
       "  </thead>\n",
       "  <tbody>\n",
       "    <tr>\n",
       "      <th>0</th>\n",
       "      <td>467</td>\n",
       "      <td>401</td>\n",
       "      <td>253936.011459</td>\n",
       "      <td>NA</td>\n",
       "    </tr>\n",
       "    <tr>\n",
       "      <th>1</th>\n",
       "      <td>463</td>\n",
       "      <td>400</td>\n",
       "      <td>295418.767920</td>\n",
       "      <td>West Hampstead</td>\n",
       "    </tr>\n",
       "    <tr>\n",
       "      <th>2</th>\n",
       "      <td>460</td>\n",
       "      <td>399</td>\n",
       "      <td>296335.974061</td>\n",
       "      <td>Gospel Oak</td>\n",
       "    </tr>\n",
       "    <tr>\n",
       "      <th>3</th>\n",
       "      <td>459</td>\n",
       "      <td>398</td>\n",
       "      <td>296335.974061</td>\n",
       "      <td>Finchley Road &amp; Frognal</td>\n",
       "    </tr>\n",
       "  </tbody>\n",
       "</table>\n",
       "</div>"
      ],
      "text/plain": [
       "   edges  nodes  aver_shorte_path_length_w          removed_station\n",
       "0    467    401              253936.011459                       NA\n",
       "1    463    400              295418.767920           West Hampstead\n",
       "2    460    399              296335.974061               Gospel Oak\n",
       "3    459    398              296335.974061  Finchley Road & Frognal"
      ]
     },
     "execution_count": 171,
     "metadata": {},
     "output_type": "execute_result"
    }
   ],
   "source": [
    "wbc_list = []\n",
    "for graph in graphs_wbc:\n",
    "    wbc_list.append(new_measure(graph))\n",
    "wbc_new_measure = pd.concat(wbc_list, ignore_index=True)\n",
    "wbc_new_measure['removed_station'] = ['NA'] + remove3_wbc\n",
    "wbc_new_measure"
   ]
  },
  {
   "cell_type": "code",
   "execution_count": 172,
   "id": "2b483026-ba60-4b10-b642-5dfb715d562a",
   "metadata": {},
   "outputs": [
    {
     "data": {
      "text/plain": [
       "Text(0.5, 1.0, 'Weighted Betweenness Centrality - M3. Average Shortest Path Length')"
      ]
     },
     "execution_count": 172,
     "metadata": {},
     "output_type": "execute_result"
    },
    {
     "data": {
      "image/png": "[encoded data removed]",
      "text/plain": [
       "<Figure size 1584x216 with 3 Axes>"
      ]
     },
     "metadata": {
      "needs_background": "light"
     },
     "output_type": "display_data"
    }
   ],
   "source": [
    "fig, (ax1, ax2, ax3) = plt.subplots(1, 3,figsize=(22,3))\n",
    "ax1.plot(wbc_adj_2_measure.removed_station, wbc_adj_2_measure.M1_components)\n",
    "ax1.set_title('Weighted Betweenness Centrality - M1. Components')\n",
    "ax2.plot(wbc_adj_2_measure.removed_station, wbc_adj_2_measure.M2_degree_assort)\n",
    "ax2.set_title('Weighted Betweenness Centrality - M2. Weighted Degree Assortativity')\n",
    "ax2.set_xlabel('Removed station')\n",
    "ax3.plot(wbc_new_measure.removed_station, wbc_new_measure.aver_shorte_path_length_w)\n",
    "ax3.set_title('Weighted Betweenness Centrality - M3. Average Shortest Path Length')"
   ]
  },
  {
   "cell_type": "code",
   "execution_count": null,
   "id": "3304bf20-a486-4968-bde1-ef564d6e7087",
   "metadata": {},
   "outputs": [],
   "source": []
  }
 ],
 "metadata": {
  "kernelspec": {
   "display_name": "Python 3 (ipykernel)",
   "language": "python",
   "name": "python3"
  },
  "language_info": {
   "codemirror_mode": {
    "name": "ipython",
    "version": 3
   },
   "file_extension": ".py",
   "mimetype": "text/x-python",
   "name": "python",
   "nbconvert_exporter": "python",
   "pygments_lexer": "ipython3",
   "version": "3.10.5"
  }
 },
 "nbformat": 4,
 "nbformat_minor": 5
}
